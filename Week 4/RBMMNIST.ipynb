{
 "cells": [
  {
   "cell_type": "markdown",
   "metadata": {},
   "source": [
    "<a href=\"https://www.skills.network/\"><img src=\"https://cf-courses-data.s3.us.cloud-object-storage.appdomain.cloud/IBM-DL0120ENedX/labs/Template%20for%20Instructional%20Hands-on%20Labs/images/IDSNlogo.png\" width=\"400px\" align=\"center\"></a>\n",
    "\n",
    "<h1 align=\"center\"><font size=\"5\">RESTRICTED BOLTZMANN MACHINES</font></h1>\n"
   ]
  },
  {
   "cell_type": "markdown",
   "metadata": {},
   "source": [
    "<h3>Introduction</h3>\n",
    "<b>Restricted Boltzmann Machine (RBM):</b>  RBMs are shallow neural nets that learn to reconstruct data by themselves in an unsupervised fashion.  \n",
    "\n",
    "<h4>Why are RBMs important?</h4>\n",
    "An RBM are a basic form of autoencoder.  It can automatically extract <b>meaningful</b> features from a given input.\n",
    "\n",
    "<h4>How does it work?</h4>\n",
    "RBM is a 2 layer neural network. Simply, RBM takes the inputs and translates those into a set of binary values that represents them in the hidden layer. Then, these numbers can be translated back to reconstruct the inputs. Through several forward and backward passes, the RBM will be trained, and a trained RBM can reveal which features are the most important ones when detecting patterns.   \n",
    "\n",
    "<h4>What are the applications of an RBM?</h4>\n",
    "RBM is useful for <a href='http://www.cs.utoronto.ca/~hinton/absps/netflixICML.pdf'>  Collaborative Filtering</a>, dimensionality reduction, classification, regression, feature learning, topic modeling and even <b>Deep Belief Networks</b>.\n",
    "\n",
    "<h4>Is RBM a generative or Discriminative model?</h4>\n",
    "RBM is a generative model. Let me explain it by first, see what is different between discriminative and generative models: \n",
    "\n",
    "<b>Discriminative:</b> Consider a classification problem where we want to learn to distinguish between Sedan cars (y = 1) and SUV cars (y = 0), based on some features of cars. Given a training set, an algorithm like logistic regression tries to find a straight line, or <i>decision boundary</i>, that separates the suv and sedan.  \n",
    "\n",
    "<b>Generative:</b> looking at cars, we can build a model of what Sedan cars look like. Then, looking at SUVs, we can build a separate model of what SUV cars look like. Finally, to classify a new car, we can match the new car against the Sedan model, and match it against the SUV model, to see whether the new car looks more like the SUV or Sedan. \n",
    "\n",
    "Generative Models specify a probability distribution over a dataset of input vectors. We can carry out both supervised and unsupervised tasks with generative models:\n",
    "\n",
    "<ul>\n",
    "    <li>In an unsupervised task, we try to form a model for $P(x)$, where $P$ is the probability given $x$ as an input vector.</li>\n",
    "    <li>In the supervised task, we first form a model for $P(x|y)$, where $P$ is the probability of $x$ given $y$(the label for $x$). For example, if $y = 0$ indicates that a car is an SUV, and $y = 1$ indicates that a car is a sedan, then $p(x|y = 0)$ models the distribution of SUV features, and $p(x|y = 1)$ models the distribution of sedan features. If we manage to find $P(x|y)$ and $P(y)$, then we can use <b>Bayes rule</b> to estimate $P(y|x)$, because:   \n",
    "        $$p(y|x) = \\frac{p(x|y)p(y)}{p(x)}$$</li>\n",
    "</ul>\n",
    "Now the question is, can we build a generative model, and then use it to create synthetic data by directly sampling from the modeled probability distributions? Lets see. \n"
   ]
  },
  {
   "cell_type": "markdown",
   "metadata": {},
   "source": [
    "<h2>Table of Contents</h2>\n",
    "<ol>\n",
    "    <li><a href=\"#ref1\">Initialization</a></li>\n",
    "    <li><a href=\"#ref2\">RBM layers</a></li>\n",
    "    <li><a href=\"#ref3\">What RBM can do after training?</a></li>\n",
    "    <li><a href=\"#ref4\">How to train the model?</a></li>\n",
    "    <li><a href=\"#ref5\">Learned features</a></li>\n",
    "</ol>\n",
    "<p></p>\n",
    "</div>\n",
    "<br>\n",
    "\n",
    "<hr>\n"
   ]
  },
  {
   "cell_type": "markdown",
   "metadata": {},
   "source": [
    "<a id=\"ref1\"></a>\n",
    "\n",
    "<h3>Initialization</h3>\n",
    "\n",
    "First, we have to load the utility file which contains different utility functions that are not connected\n",
    "in any way to the networks presented in the tutorials, but rather help in\n",
    "processing the outputs into a more understandable way.\n"
   ]
  },
  {
   "cell_type": "code",
   "execution_count": 6,
   "metadata": {},
   "outputs": [],
   "source": [
    "import urllib.request\n",
    "with urllib.request.urlopen(\"https://cf-courses-data.s3.us.cloud-object-storage.appdomain.cloud/IBMDeveloperSkillsNetwork-DL0120EN-SkillsNetwork/labs/Week4/data/utils.py\") as url:\n",
    "    response = url.read()\n",
    "target = open('utils.py', 'w')\n",
    "target.write(response.decode('utf-8'))\n",
    "target.close()"
   ]
  },
  {
   "cell_type": "markdown",
   "metadata": {},
   "source": [
    "<h2>Installing TensorFlow </h2>\n",
    "\n",
    "We will installing TensorFlow version 2.2.0 and its required prerequistes.  Also installing pillow...\n"
   ]
  },
  {
   "cell_type": "code",
   "execution_count": 7,
   "metadata": {},
   "outputs": [],
   "source": [
    "#!pip install grpcio==1.24.3\n",
    "#!pip install tensorflow==2.2.0\n",
    "#!pip install pillow"
   ]
  },
  {
   "cell_type": "markdown",
   "metadata": {},
   "source": [
    "<b>Notice:</b> This notebook has been created with TensorFlow version 2.2, and might not work with other versions. Therefore we check:\n"
   ]
  },
  {
   "cell_type": "code",
   "execution_count": 8,
   "metadata": {},
   "outputs": [],
   "source": [
    "import tensorflow as tf\n",
    "from IPython.display import Markdown, display\n",
    "\n",
    "def printmd(string):\n",
    "    display(Markdown('# <span style=\"color:red\">'+string+'</span>'))\n",
    "\n",
    "\n",
    "if not tf.__version__ == '2.2.0':\n",
    "    printmd('<<<<<!!!!! ERROR !!!! please upgrade to TensorFlow 2.2.0, or restart your Kernel (Kernel->Restart & Clear Output)>>>>>')"
   ]
  },
  {
   "cell_type": "markdown",
   "metadata": {},
   "source": [
    "Now, we load in all the packages that we use to create the net including the TensorFlow package:\n"
   ]
  },
  {
   "cell_type": "code",
   "execution_count": 9,
   "metadata": {},
   "outputs": [],
   "source": [
    "import tensorflow as tf\n",
    "import numpy as np\n",
    "\n",
    "from PIL import Image\n",
    "from utils import tile_raster_images\n",
    "import matplotlib.pyplot as plt\n",
    "%matplotlib inline"
   ]
  },
  {
   "cell_type": "markdown",
   "metadata": {},
   "source": [
    "<hr>\n"
   ]
  },
  {
   "cell_type": "markdown",
   "metadata": {},
   "source": [
    "<a id=\"ref2\"></a>\n",
    "\n",
    "<h3>RBM layers</h3>\n",
    "\n",
    "An RBM has two layers. The first layer of the RBM is called the <b>visible</b> (or input layer). Imagine that our toy example, has only vectors with 7 values, so the visible layer must have $V=7$ input nodes. \n",
    "The second layer is the <b>hidden</b> layer, which has $H$ neurons in our case. Each hidden node takes on values of either 0 or 1 (i.e., $h_i = 1$ or $h_i$ = 0), with a probability that is a logistic function of the inputs it receives from the other $V$ visible units, called for example, $p(h_i = 1)$. For our toy sample, we'll use 2 nodes in the hidden layer, so $H = 2$.\n",
    "\n",
    "<center><img src=\"https://ibm.box.com/shared/static/eu26opvcefgls6vnwuo29uwp0nudmokh.png\" alt=\"RBM Model\" style=\"width: 400px;\"></center>\n"
   ]
  },
  {
   "cell_type": "markdown",
   "metadata": {},
   "source": [
    "Each node in the first layer also has a <b>bias</b>. We will denote the bias as $v_{bias}$, and this single value is shared among the $V$ visible units.\n",
    "\n",
    "The <b>bias</b> of the second is defined similarly as $h_{bias}$, and this single value among the $H$ hidden units.\n"
   ]
  },
  {
   "cell_type": "code",
   "execution_count": 10,
   "metadata": {},
   "outputs": [],
   "source": [
    "v_bias = tf.Variable(tf.zeros([7]), tf.float32)\n",
    "h_bias = tf.Variable(tf.zeros([2]), tf.float32)"
   ]
  },
  {
   "cell_type": "markdown",
   "metadata": {},
   "source": [
    "We have to define weights among the input layer and hidden layer nodes. In the weight matrix, the number of rows are equal to the input nodes, and the number of columns are equal to the output nodes. We define a tensor $\\mathbf{W}$ of shape = (7,2), where the number of visible neurons = 7, and the number of hidden neurons = 2. \n"
   ]
  },
  {
   "cell_type": "code",
   "execution_count": 11,
   "metadata": {},
   "outputs": [],
   "source": [
    "W = tf.constant(np.random.normal(loc=0.0, scale=1.0, size=(7, 2)).astype(np.float32))"
   ]
  },
  {
   "cell_type": "markdown",
   "metadata": {},
   "source": [
    "<hr>\n"
   ]
  },
  {
   "cell_type": "markdown",
   "metadata": {},
   "source": [
    "<a id=\"ref3\"></a>\n",
    "\n",
    "<h3>What RBM can do after training?</h3>\n",
    "Think of RBM as a model that has been trained based on images of a dataset of many SUV and sedan cars. Also, imagine that the RBM network has only two hidden nodes, where one node encodes the weight and, and the other encodes the size.  \n",
    "In a sense, the different configurations represent different cars, where one is an SUV and the other is Sedan.  In a training process, through many forward and backward passes, the RBM adjust its weights to send a stronger signal to either the SUV node (0, 1) or the sedan node (1, 0) in the hidden layer, given the pixels of images. Now, given an SUV in hidden layer, which distribution of pixels should we expect? RBM can give you 2 things. First, it encodes your images in hidden layer. Second, it gives you the probability of observing a case, given some hidden values.\n",
    "\n",
    "<h3>The Inference Process</h3>\n",
    "\n",
    "RBM has two phases:\n",
    "\n",
    "<ul>\n",
    "    <li>Forward Pass</li>  \n",
    "    <li>Backward Pass or Reconstruction</li>\n",
    "</ul>\n",
    "\n",
    "<b>Phase 1) Forward pass:</b>  \n",
    "\n",
    "Input one training sample (one image) $\\mathbf{x}$ through all visible nodes, and pass it to all hidden nodes. Processing happens in each node in the hidden layer. This computation begins by making stochastic decisions about whether to transmit that input or not (i.e. to determine the state of each hidden layer).  First, the probability vector is computed using the input feature vector $\\mathbf{x}$, the weight matrix $\\mathbf{W}$, and the bias term $h_{bias}$, as \n",
    "\n",
    "$p({h_j}|\\mathbf x)= \\sigma(\\sum_{i=1}^V W_{ij} x_i + h_{bias} )$, \n",
    "\n",
    "where $\\sigma(z) = (1+e^{-z})^{-1}$ is the logistic function.\n",
    "\n",
    "So, what does $p({h_j})$ represent? It is the <b>probability distribution</b> of the hidden units. That is, RBM uses inputs $x_i$ to make predictions about hidden node activations. For example, imagine that the hidden node activation values are [0.51 0.84] for the first training item. It tells you that the conditional probability for each hidden neuron for Phase 1 is: \n",
    "\n",
    "$$p(h_{1} = 1|\\mathbf{v}) = 0.51$$\n",
    "$$p(h_{2} = 1|\\mathbf{v}) = 0.84$$\n",
    "\n",
    "As a result, for each row in the training set, vector of probabilities is generated.  In TensorFlow, this is referred to as a `tensor` with a shape of (1,2). \n",
    "\n",
    "We then turn unit $j$ with probability $p(h_{j}|\\mathbf{v})$, and turn it off with probability $1 - p(h_{j}|\\mathbf{v})$ by generating a uniform random number vector $\\mathbf{\\xi}$, and comparing it to the activation probability as \n",
    "\n",
    "<center>If $\\xi_j>p(h_{j}|\\mathbf{v})$, then $h_j=1$, else $h_j=0$.</center>\n",
    "\n",
    "Therefore, the conditional probability of a configuration of $\\mathbf{h}$ given $\\mathbf{v}$ (for a training sample) is:\n",
    "\n",
    "$$p(\\mathbf{h} \\mid \\mathbf{v}) = \\prod_{j=1}^H p(h_j \\mid \\mathbf{v})$$\n",
    "\n",
    "where $H$ is the number of hidden units.\n"
   ]
  },
  {
   "cell_type": "markdown",
   "metadata": {},
   "source": [
    "Before we go further, let's look at a toy example for one case out of all input. Assume that we have a trained RBM, and a very simple input vector, such as [1.0, 0.0, 0.0, 1.0, 0.0, 0.0, 0.0].  \n",
    "Let's see what the output of forward pass would look like:\n"
   ]
  },
  {
   "cell_type": "code",
   "execution_count": 12,
   "metadata": {},
   "outputs": [
    {
     "name": "stdout",
     "output_type": "stream",
     "text": [
      "Input:  tf.Tensor([[1. 0. 0. 1. 0. 0. 0.]], shape=(1, 7), dtype=float32)\n",
      "hb:  tf.Tensor([0.1 0.1], shape=(2,), dtype=float32)\n",
      "w:  tf.Tensor(\n",
      "[[-0.23180845  0.66923654]\n",
      " [ 0.8743315  -0.75669765]\n",
      " [ 0.8825596   0.21141595]\n",
      " [-1.4875022   0.6858155 ]\n",
      " [-0.83512175 -1.1074878 ]\n",
      " [-0.83900195 -0.54236466]\n",
      " [ 1.8952792   0.6721446 ]], shape=(7, 2), dtype=float32)\n",
      "p(h|v):  tf.Tensor([[0.16529997 0.81077474]], shape=(1, 2), dtype=float32)\n",
      "h0 states: tf.Tensor([[0. 1.]], shape=(1, 2), dtype=float32)\n"
     ]
    }
   ],
   "source": [
    "X = tf.constant([[1.0, 0.0, 0.0, 1.0, 0.0, 0.0, 0.0]], tf.float32)\n",
    "\n",
    "v_state = X\n",
    "print (\"Input: \", v_state)\n",
    "\n",
    "h_bias = tf.constant([0.1, 0.1])\n",
    "print (\"hb: \", h_bias)\n",
    "print (\"w: \", W)\n",
    "\n",
    "# Calculate the probabilities of turning the hidden units on:\n",
    "h_prob = tf.nn.sigmoid(tf.matmul(v_state, W) + h_bias)  #probabilities of the hidden units\n",
    "print (\"p(h|v): \", h_prob)\n",
    "\n",
    "# Draw samples from the distribution:\n",
    "h_state = tf.nn.relu(tf.sign(h_prob - tf.random.uniform(tf.shape(h_prob)))) #states\n",
    "print (\"h0 states:\", h_state)"
   ]
  },
  {
   "cell_type": "markdown",
   "metadata": {},
   "source": [
    "<b>Phase 2) Backward Pass (Reconstruction):</b>\n",
    "The RBM reconstructs data by making several forward and backward passes between the visible and hidden layers.\n",
    "\n",
    "So, in the second phase (i.e. reconstruction phase), the samples from the hidden layer (i.e. $\\mathbf h$) becomes the input in the backward pass. The same weight matrix and visible layer biases are used to passed to the sigmoid function. The reproduced output is a reconstruction which is an approximation of the original input.\n"
   ]
  },
  {
   "cell_type": "code",
   "execution_count": 13,
   "metadata": {},
   "outputs": [
    {
     "name": "stdout",
     "output_type": "stream",
     "text": [
      "b:  tf.Tensor([0.1 0.2 0.1 0.1 0.1 0.2 0.1], shape=(7,), dtype=float32)\n",
      "p(vi∣h):  tf.Tensor(\n",
      "[[0.68335575 0.36431193 0.5772308  0.6869321  0.2674718  0.4152352\n",
      "  0.68398464]], shape=(1, 7), dtype=float32)\n",
      "v probability states:  tf.Tensor([[1. 0. 0. 1. 0. 1. 1.]], shape=(1, 7), dtype=float32)\n"
     ]
    }
   ],
   "source": [
    "vb = tf.constant([0.1, 0.2, 0.1, 0.1, 0.1, 0.2, 0.1])\n",
    "print (\"b: \", vb)\n",
    "v_prob = tf.nn.sigmoid(tf.matmul(h_state, tf.transpose(W)) + vb)\n",
    "print (\"p(vi∣h): \", v_prob)\n",
    "v_state = tf.nn.relu(tf.sign(v_prob - tf.random.uniform(tf.shape(v_prob))))\n",
    "print (\"v probability states: \", v_state)"
   ]
  },
  {
   "cell_type": "markdown",
   "metadata": {},
   "source": [
    "RBM learns a probability distribution over the input, and then, after being trained, the RBM can generate new samples from the learned probability distribution. As you know, <b>probability distribution</b>, is a mathematical function that provides the probabilities of occurrence of different possible outcomes in an experiment.\n",
    "\n",
    "The (conditional) probability distribution over the visible units v is given by\n",
    "\n",
    "$p(\\mathbf{v} \\mid \\mathbf{h}) = \\prod_{i=1}^V p(v_i \\mid \\mathbf{h}),$\n",
    "\n",
    "where,\n",
    "\n",
    "$p(v_i \\mid \\mathbf{h}) = \\sigma\\left(\\sum_{j=1}^H W_{ji} h_j + v_{bias} \\right)$\n",
    "\n",
    "so, given current state of hidden units and weights, what is the probability of generating [1. 0. 0. 1. 0. 0. 0.] in reconstruction phase, based on the above <b>probability distribution</b> function?\n"
   ]
  },
  {
   "cell_type": "code",
   "execution_count": 14,
   "metadata": {},
   "outputs": [
    {
     "name": "stdout",
     "output_type": "stream",
     "text": [
      "input X: [[1. 0. 0. 1. 0. 0. 0.]]\n",
      "probablity vector: [0.68335575 0.36431193 0.5772308  0.6869321  0.2674718  0.4152352\n",
      " 0.68398464]\n",
      "probability of generating X:  0.017077405\n"
     ]
    }
   ],
   "source": [
    "inp = X\n",
    "print(\"input X:\" , inp.numpy())\n",
    "\n",
    "print(\"probablity vector:\" , v_prob[0].numpy())\n",
    "v_probability = 1\n",
    "\n",
    "for elm, p in zip(inp[0],v_prob[0]) :\n",
    "    if elm ==1:\n",
    "        v_probability *= p\n",
    "    else:\n",
    "        v_probability *= (1-p)\n",
    "\n",
    "print(\"probability of generating X: \" , v_probability.numpy())"
   ]
  },
  {
   "cell_type": "markdown",
   "metadata": {},
   "source": [
    "How similar are vectors $\\mathbf{x}$ and $\\mathbf{v}$? Of course, the reconstructed values most likely will not look anything like the input vector, because our network has not been trained yet. Our objective is to train the model in such a way that the input vector and reconstructed vector to be same. Therefore, based on how different the input values look to the ones that we just reconstructed, the weights are adjusted. \n"
   ]
  },
  {
   "cell_type": "markdown",
   "metadata": {},
   "source": [
    "<hr>\n"
   ]
  },
  {
   "cell_type": "markdown",
   "metadata": {},
   "source": [
    "<h2>MNIST</h2>\n"
   ]
  },
  {
   "cell_type": "markdown",
   "metadata": {},
   "source": [
    "We will be using the MNIST dataset to practice the usage of RBMs. The following cell loads the MNIST dataset.\n"
   ]
  },
  {
   "cell_type": "code",
   "execution_count": 15,
   "metadata": {},
   "outputs": [],
   "source": [
    "#loading training and test data\n",
    "mnist = tf.keras.datasets.mnist\n",
    "(trX, trY), (teX, teY) = mnist.load_data()\n",
    "\n",
    "# showing an example of the Flatten class and operation\n",
    "from tensorflow.keras.layers import Flatten\n",
    "flatten = Flatten(dtype='float32')\n",
    "trX = flatten(trX/255.0)\n",
    "trY = flatten(trY/255.0)"
   ]
  },
  {
   "cell_type": "markdown",
   "metadata": {},
   "source": [
    "Lets look at the dimension of the images.\n"
   ]
  },
  {
   "cell_type": "markdown",
   "metadata": {},
   "source": [
    "MNIST images have 784 pixels, so the visible layer must have 784 input nodes.  For our case, we'll use 50 nodes in the hidden layer, so i = 50.\n"
   ]
  },
  {
   "cell_type": "code",
   "execution_count": 16,
   "metadata": {},
   "outputs": [],
   "source": [
    "vb = tf.Variable(tf.zeros([784]), tf.float32)\n",
    "hb = tf.Variable(tf.zeros([50]), tf.float32)"
   ]
  },
  {
   "cell_type": "markdown",
   "metadata": {},
   "source": [
    "Let $\\mathbf W$ be the Tensor of 784x50 (784 - number of visible neurons, 50 - number of hidden neurons) that represents weights between the neurons. \n"
   ]
  },
  {
   "cell_type": "code",
   "execution_count": 17,
   "metadata": {},
   "outputs": [],
   "source": [
    "W = tf.Variable(tf.zeros([784,50]), tf.float32)"
   ]
  },
  {
   "cell_type": "markdown",
   "metadata": {},
   "source": [
    "Lets define the visible layer:\n"
   ]
  },
  {
   "cell_type": "code",
   "execution_count": 18,
   "metadata": {},
   "outputs": [
    {
     "data": {
      "text/plain": [
       "<tf.Tensor: shape=(1, 50), dtype=float32, numpy=\n",
       "array([[0., 0., 0., 0., 0., 0., 0., 0., 0., 0., 0., 0., 0., 0., 0., 0.,\n",
       "        0., 0., 0., 0., 0., 0., 0., 0., 0., 0., 0., 0., 0., 0., 0., 0.,\n",
       "        0., 0., 0., 0., 0., 0., 0., 0., 0., 0., 0., 0., 0., 0., 0., 0.,\n",
       "        0., 0.]], dtype=float32)>"
      ]
     },
     "execution_count": 18,
     "metadata": {},
     "output_type": "execute_result"
    }
   ],
   "source": [
    "v0_state = tf.Variable(tf.zeros([784]), tf.float32)\n",
    "\n",
    "#testing to see if the matrix product works\n",
    "tf.matmul( [v0_state], W)"
   ]
  },
  {
   "cell_type": "markdown",
   "metadata": {},
   "source": [
    "Now, we can define hidden layer:\n"
   ]
  },
  {
   "cell_type": "code",
   "execution_count": 19,
   "metadata": {},
   "outputs": [
    {
     "name": "stdout",
     "output_type": "stream",
     "text": [
      "h0_state shape:  tf.Tensor([ 1 50], shape=(2,), dtype=int32)\n",
      "first 15 hidden states:  tf.Tensor([1. 0. 1. 0. 0. 1. 0. 1. 0. 0. 0. 0. 0. 1. 0.], shape=(15,), dtype=float32)\n"
     ]
    }
   ],
   "source": [
    "#computing the hidden nodes probability vector and checking shape\n",
    "h0_prob = tf.nn.sigmoid(tf.matmul([v0_state], W) + hb)  #probabilities of the hidden units\n",
    "print(\"h0_state shape: \" , tf.shape(h0_prob))\n",
    "\n",
    "#defining a function to return only the generated hidden states \n",
    "def hidden_layer(v0_state, W, hb):\n",
    "    h0_prob = tf.nn.sigmoid(tf.matmul([v0_state], W) + hb)  #probabilities of the hidden units\n",
    "    h0_state = tf.nn.relu(tf.sign(h0_prob - tf.random.uniform(tf.shape(h0_prob)))) #sample_h_given_X\n",
    "    return h0_state\n",
    "\n",
    "\n",
    "h0_state = hidden_layer(v0_state, W, hb)\n",
    "print(\"first 15 hidden states: \", h0_state[0][0:15])"
   ]
  },
  {
   "cell_type": "markdown",
   "metadata": {},
   "source": [
    "Now, we define reconstruction part:\n"
   ]
  },
  {
   "cell_type": "code",
   "execution_count": 20,
   "metadata": {},
   "outputs": [
    {
     "name": "stdout",
     "output_type": "stream",
     "text": [
      "hidden state shape:  (1, 50)\n",
      "v0 state shape:   (784,)\n",
      "v1 state shape:   (784,)\n"
     ]
    }
   ],
   "source": [
    "def reconstructed_output(h0_state, W, vb):\n",
    "    v1_prob = tf.nn.sigmoid(tf.matmul(h0_state, tf.transpose(W)) + vb) \n",
    "    v1_state = tf.nn.relu(tf.sign(v1_prob - tf.random.uniform(tf.shape(v1_prob)))) #sample_v_given_h\n",
    "    return v1_state[0]\n",
    "\n",
    "v1_state = reconstructed_output(h0_state, W, vb)\n",
    "print(\"hidden state shape: \", h0_state.shape)\n",
    "print(\"v0 state shape:  \", v0_state.shape)\n",
    "print(\"v1 state shape:  \", v1_state.shape)"
   ]
  },
  {
   "cell_type": "markdown",
   "metadata": {},
   "source": [
    "<h3>What is the objective function?</h3>\n",
    "\n",
    "<b>Goal</b>: Maximize the likelihood of our data being drawn from that distribution\n",
    "\n",
    "<b>Calculate error:</b>  \n",
    "In each epoch, we compute the \"error\" as a sum of the squared difference between step 1 and step n,\n",
    "e.g the error shows the difference between the data and its reconstruction.\n",
    "\n",
    "<b>Note:</b> tf.reduce_mean computes the mean of elements across dimensions of a tensor.\n"
   ]
  },
  {
   "cell_type": "code",
   "execution_count": 21,
   "metadata": {},
   "outputs": [
    {
     "name": "stdout",
     "output_type": "stream",
     "text": [
      "error 0.47831634\n"
     ]
    }
   ],
   "source": [
    "def error(v0_state, v1_state):\n",
    "    return tf.reduce_mean(tf.square(v0_state - v1_state))\n",
    "\n",
    "err = tf.reduce_mean(tf.square(v0_state - v1_state))\n",
    "print(\"error\" , err.numpy())"
   ]
  },
  {
   "cell_type": "markdown",
   "metadata": {},
   "source": [
    "<a id=\"ref4\"></a>\n",
    "\n",
    "<h3>Training the Model</h3>\n",
    "<b>Warning...</b> The following part is math-heavy, but you can skip it if you just want to run the cells in the next section.\n",
    "\n",
    "As mentioned, we want to give a high probability to the input data we train on. So, in order to train an RBM, we have to maximize the product of probabilities assigned to all rows $\\mathbf{v}$ (images) in the training set $\\mathbf{V}$ (a matrix, where each row of it is treated as a visible vector $\\mathbf{v}$)\n",
    "\n",
    "$$\\arg\\max_W\\prod_{\\mathbf{v}\\in\\mathbf{V}_T}p(\\mathbf{v}),$$\n",
    "\n",
    "which is equivalent to maximizing the expectation of the log probability, given as\n",
    "\n",
    "$$\\arg\\max_W\\left[ \\mathbb{E} \\left(\\prod_{\\mathbf v\\in \\mathbf V}\\text{log} \\left(p(\\mathbf v)\\right) \\right) \\right].$$\n",
    "\n",
    "So, we have to update the weights $W_{ij}$  to increase $p(\\mathbf{v})$ for all $\\mathbf{v}$ in our training data during training. So we have to calculate the derivative:\n",
    "\n",
    "$$\\frac{\\partial \\log p(\\mathbf v)}{\\partial W_{ij}}$$\n",
    "\n",
    "This cannot be easily done by typical <b>gradient descent (SGD)</b>, so we can use another approach, which has 2 steps:\n",
    "\n",
    "<ol>\n",
    "    <li>Gibbs Sampling</li>\n",
    "    <li>Contrastive Divergence</li>\n",
    "</ol>    \n",
    "    \n",
    "<h3>Gibbs Sampling</h3>   \n",
    "\n",
    "<h4>Gibbs Sampling Step 1</h4> \n",
    "Given an input vector $\\mathbf{v}$, we are using $p(\\mathbf{h}|\\mathbf{v})$ to predict the hidden values $\\mathbf{h}$. \n",
    "  $$p({h_j}|\\mathbf v)= \\sigma\\left(\\sum_{i=1}^V W_{ij} v_i + h_{bias} \\right)$$\n",
    "The samples are generated from this distribution by generating the uniform random variate vector $\\mathbf{\\xi} \\sim U[0,1]$ of length $H$ and comparing to the computed probabilities as\n",
    "\n",
    "<center>If $\\xi_j>p(h_{j}|\\mathbf{v})$, then $h_j=1$, else $h_j=0$.</center>\n",
    "\n",
    "<h4>Gibbs Sampling Step 2</h4> \n",
    "Then, knowing the hidden values, we use $p(\\mathbf v| \\mathbf h)$ for reconstructing of new input values v. \n",
    "\n",
    "   $$p({v_i}|\\mathbf h)= \\sigma\\left(\\sum_{j=1}^H W^{T}_{ij} h_j + v_{bias} \\right)$$\n",
    "\n",
    "The samples are generated from this distribution by generating a uniform random variate vector $\\mathbf{\\xi} \\sim U[0,1]$ of length $V$ and comparing to the computed probabilities as\n",
    "\n",
    "<center>If $\\xi_i>p(v_{i}|\\mathbf{h})$, then $v_i=1$, else $v_i=0$.</center>\n",
    "\n",
    "Let vectors $\\mathbf v_k$ and $\\mathbf h_k$ be for the $k$th iteration.  In general, the $kth$ state is generrated as: \n",
    "\n",
    "<b>Iteration</b> $k$: \n",
    "\n",
    "$$\\mathbf v_{k-1} \\Rightarrow p(\\mathbf h_{k-1}|\\mathbf v_{k-1})\\Rightarrow \\mathbf h_{k-1}\\Rightarrow p(\\mathbf v_{k}|\\mathbf h_{k-1})\\Rightarrow \\mathbf v_k$$       \n",
    "\n",
    "<h3>Contrastive Divergence (CD-k)</h3>\n",
    "The update of the weight matrix is done during the Contrastive Divergence step. \n",
    "\n",
    "Vectors v0 and vk are used to calculate the activation probabilities for hidden values h0 and hk. The difference between the outer products of those probabilities with input vectors v0 and vk results in the update matrix:\n",
    "\n",
    "$\\Delta \\mathbf W_k =\\mathbf v_k \\otimes \\mathbf h_k - \\mathbf v_{k-1} \\otimes \\mathbf h_{k-1}$ \n",
    "\n",
    "Contrastive Divergence is actually matrix of values that is computed and used to adjust values of the $\\mathbf W$ matrix. Changing $\\mathbf W$ incrementally leads to training of the  $\\mathbf W$ values. Then, on each step (epoch), $\\mathbf W$ is updated using the following:\n",
    "\n",
    "$\\mathbf W_k = \\mathbf W_{k-1} + \\alpha * \\Delta \\mathbf W_k$ \n",
    "\n",
    "Reconstruction steps:\n",
    "\n",
    "<ul>\n",
    "    <li> Get one data point from data set, like <i>x</i>, and pass it through the following steps:</li>\n",
    "    \n",
    "<b>Iteration</b> $k=1$: \n",
    "    \n",
    "Sampling (starting with input image)\n",
    "    $$\\mathbf x = \\mathbf v_0 \\Rightarrow p(\\mathbf h_0|\\mathbf v_0)\\Rightarrow \\mathbf h_0 \\Rightarrow p(\\mathbf v_1|\\mathbf h_0)\\Rightarrow \\mathbf v_1$$   \n",
    "    followed by the CD-k step\n",
    "$$\\Delta \\mathbf W_1 =\\mathbf v_1 \\otimes \\mathbf h_1 - \\mathbf v_{0} \\otimes \\mathbf h_{0}$$     \n",
    "$$\\mathbf W_1 = \\mathbf W_{0} + \\alpha * \\Delta \\mathbf W_1$$ \n",
    " \n",
    "<li> $\\mathbf v_1$ is the reconstruction of $\\mathbf x$ sent to the next iteration).</li>\n",
    "\n",
    "<b>Iteration</b> $k=2$: \n",
    "\n",
    "Sampling (starting with $\\mathbf v_1$)\n",
    "\n",
    "$$\\mathbf v_1 \\Rightarrow p(\\mathbf h_1|\\mathbf v_1)\\Rightarrow \\mathbf h_1\\Rightarrow p(\\mathbf v_2|\\mathbf h_1)\\Rightarrow \\mathbf v_2$$   \n",
    "\n",
    "followed by the CD-k step\n",
    "$$\\Delta \\mathbf W_2 =\\mathbf v_2 \\otimes \\mathbf h_2 - \\mathbf v_{1} \\otimes \\mathbf h_{1}$$  \n",
    "$$\\mathbf W_2 = \\mathbf W_{1} + \\alpha * \\Delta \\mathbf W_2$$ \n",
    "\n",
    "<li> $\\mathbf v_2$ is the reconstruction of $\\mathbf v_1$ sent to the next iteration).</li>    \n",
    "      \n",
    "<b>Iteration</b> $k=K$:\n",
    "    \n",
    "Sampling (starting with $\\mathbf v_{K-1}$)\n",
    "\n",
    "$$\\mathbf v_{K-1} \\Rightarrow p(\\mathbf h_{K-1}|\\mathbf v_{K-1})\\Rightarrow \\mathbf h_{K-1}\\Rightarrow p(\\mathbf v_K|\\mathbf h_{K-1})\\Rightarrow \\mathbf v_K$$   \n",
    "\n",
    "followed by the CD-k step\n",
    "$$\\Delta \\mathbf W_K =\\mathbf v_K \\otimes \\mathbf h_K - \\mathbf v_{K-1} \\otimes \\mathbf h_{K-1}$$  \n",
    "$$\\mathbf W_K = \\mathbf W_{K-1} + \\alpha * \\Delta \\mathbf W_K$$ \n",
    "\n",
    "<b>What is $\\alpha$?</b>  \n",
    "Here, alpha is some small step size, and is also known as the \"learning rate\".\n"
   ]
  },
  {
   "cell_type": "markdown",
   "metadata": {},
   "source": [
    "$K$ is adjustable, and good performance can be achieved with $K=1$, so that we just take one set of sampling steps per image.\n"
   ]
  },
  {
   "cell_type": "code",
   "execution_count": 22,
   "metadata": {},
   "outputs": [],
   "source": [
    "h1_prob = tf.nn.sigmoid(tf.matmul([v1_state], W) + hb)\n",
    "h1_state = tf.nn.relu(tf.sign(h1_prob - tf.random.uniform(tf.shape(h1_prob)))) #sample_h_given_X"
   ]
  },
  {
   "cell_type": "markdown",
   "metadata": {},
   "source": [
    "Lets look at the error of the first run:\n"
   ]
  },
  {
   "cell_type": "code",
   "execution_count": 23,
   "metadata": {},
   "outputs": [
    {
     "name": "stdout",
     "output_type": "stream",
     "text": [
      "error:  tf.Tensor(0.47831634, shape=(), dtype=float32)\n"
     ]
    }
   ],
   "source": [
    "print(\"error: \", error(v0_state, v1_state))"
   ]
  },
  {
   "cell_type": "code",
   "execution_count": 24,
   "metadata": {},
   "outputs": [
    {
     "name": "stdout",
     "output_type": "stream",
     "text": [
      "Epoch: 0 batch #: 1  of 300 sample #: 199 reconstruction error: 0.175303\n",
      "Epoch: 0 batch #: 2  of 300 sample #: 199 reconstruction error: 0.209912\n",
      "Epoch: 0 batch #: 3  of 300 sample #: 199 reconstruction error: 0.126047\n",
      "Epoch: 0 batch #: 4  of 300 sample #: 199 reconstruction error: 0.120429\n",
      "Epoch: 0 batch #: 5  of 300 sample #: 199 reconstruction error: 0.097232\n",
      "Epoch: 0 batch #: 6  of 300 sample #: 199 reconstruction error: 0.193777\n",
      "Epoch: 0 batch #: 7  of 300 sample #: 199 reconstruction error: 0.094076\n",
      "Epoch: 0 batch #: 8  of 300 sample #: 199 reconstruction error: 0.107104\n",
      "Epoch: 0 batch #: 9  of 300 sample #: 199 reconstruction error: 0.096076\n",
      "Epoch: 0 batch #: 10  of 300 sample #: 199 reconstruction error: 0.160490\n",
      "Epoch: 0 batch #: 11  of 300 sample #: 199 reconstruction error: 0.088455\n",
      "Epoch: 0 batch #: 12  of 300 sample #: 199 reconstruction error: 0.130563\n",
      "Epoch: 0 batch #: 13  of 300 sample #: 199 reconstruction error: 0.059367\n",
      "Epoch: 0 batch #: 14  of 300 sample #: 199 reconstruction error: 0.109175\n",
      "Epoch: 0 batch #: 15  of 300 sample #: 199 reconstruction error: 0.118993\n",
      "Epoch: 0 batch #: 16  of 300 sample #: 199 reconstruction error: 0.096908\n",
      "Epoch: 0 batch #: 17  of 300 sample #: 199 reconstruction error: 0.085537\n",
      "Epoch: 0 batch #: 18  of 300 sample #: 199 reconstruction error: 0.120655\n",
      "Epoch: 0 batch #: 19  of 300 sample #: 199 reconstruction error: 0.126105\n",
      "Epoch: 0 batch #: 20  of 300 sample #: 199 reconstruction error: 0.101171\n",
      "Epoch: 0 batch #: 21  of 300 sample #: 199 reconstruction error: 0.087122\n",
      "Epoch: 0 batch #: 22  of 300 sample #: 199 reconstruction error: 0.098187\n",
      "Epoch: 0 batch #: 23  of 300 sample #: 199 reconstruction error: 0.101141\n",
      "Epoch: 0 batch #: 24  of 300 sample #: 199 reconstruction error: 0.104561\n",
      "Epoch: 0 batch #: 25  of 300 sample #: 199 reconstruction error: 0.097684\n",
      "Epoch: 0 batch #: 26  of 300 sample #: 199 reconstruction error: 0.100782\n",
      "Epoch: 0 batch #: 27  of 300 sample #: 199 reconstruction error: 0.100550\n",
      "Epoch: 0 batch #: 28  of 300 sample #: 199 reconstruction error: 0.070235\n",
      "Epoch: 0 batch #: 29  of 300 sample #: 199 reconstruction error: 0.111695\n",
      "Epoch: 0 batch #: 30  of 300 sample #: 199 reconstruction error: 0.073317\n",
      "Epoch: 0 batch #: 31  of 300 sample #: 199 reconstruction error: 0.104929\n",
      "Epoch: 0 batch #: 32  of 300 sample #: 199 reconstruction error: 0.124521\n",
      "Epoch: 0 batch #: 33  of 300 sample #: 199 reconstruction error: 0.050509\n",
      "Epoch: 0 batch #: 34  of 300 sample #: 199 reconstruction error: 0.079832\n",
      "Epoch: 0 batch #: 35  of 300 sample #: 199 reconstruction error: 0.089571\n",
      "Epoch: 0 batch #: 36  of 300 sample #: 199 reconstruction error: 0.082338\n",
      "Epoch: 0 batch #: 37  of 300 sample #: 199 reconstruction error: 0.055415\n",
      "Epoch: 0 batch #: 38  of 300 sample #: 199 reconstruction error: 0.081212\n",
      "Epoch: 0 batch #: 39  of 300 sample #: 199 reconstruction error: 0.107813\n",
      "Epoch: 0 batch #: 40  of 300 sample #: 199 reconstruction error: 0.122698\n",
      "Epoch: 0 batch #: 41  of 300 sample #: 199 reconstruction error: 0.077538\n",
      "Epoch: 0 batch #: 42  of 300 sample #: 199 reconstruction error: 0.075969\n",
      "Epoch: 0 batch #: 43  of 300 sample #: 199 reconstruction error: 0.118951\n",
      "Epoch: 0 batch #: 44  of 300 sample #: 199 reconstruction error: 0.065933\n",
      "Epoch: 0 batch #: 45  of 300 sample #: 199 reconstruction error: 0.057746\n",
      "Epoch: 0 batch #: 46  of 300 sample #: 199 reconstruction error: 0.034958\n",
      "Epoch: 0 batch #: 47  of 300 sample #: 199 reconstruction error: 0.052905\n",
      "Epoch: 0 batch #: 48  of 300 sample #: 199 reconstruction error: 0.042827\n",
      "Epoch: 0 batch #: 49  of 300 sample #: 199 reconstruction error: 0.123893\n",
      "Epoch: 0 batch #: 50  of 300 sample #: 199 reconstruction error: 0.054354\n",
      "Epoch: 0 batch #: 51  of 300 sample #: 199 reconstruction error: 0.069373\n",
      "Epoch: 0 batch #: 52  of 300 sample #: 199 reconstruction error: 0.028803\n",
      "Epoch: 0 batch #: 53  of 300 sample #: 199 reconstruction error: 0.094542\n",
      "Epoch: 0 batch #: 54  of 300 sample #: 199 reconstruction error: 0.044371\n",
      "Epoch: 0 batch #: 55  of 300 sample #: 199 reconstruction error: 0.119383\n",
      "Epoch: 0 batch #: 56  of 300 sample #: 199 reconstruction error: 0.049778\n",
      "Epoch: 0 batch #: 57  of 300 sample #: 199 reconstruction error: 0.040521\n",
      "Epoch: 0 batch #: 58  of 300 sample #: 199 reconstruction error: 0.076028\n",
      "Epoch: 0 batch #: 59  of 300 sample #: 199 reconstruction error: 0.057927\n",
      "Epoch: 0 batch #: 60  of 300 sample #: 199 reconstruction error: 0.095510\n",
      "Epoch: 0 batch #: 61  of 300 sample #: 199 reconstruction error: 0.081867\n",
      "Epoch: 0 batch #: 62  of 300 sample #: 199 reconstruction error: 0.075981\n",
      "Epoch: 0 batch #: 63  of 300 sample #: 199 reconstruction error: 0.057327\n",
      "Epoch: 0 batch #: 64  of 300 sample #: 199 reconstruction error: 0.083286\n",
      "Epoch: 0 batch #: 65  of 300 sample #: 199 reconstruction error: 0.099465\n",
      "Epoch: 0 batch #: 66  of 300 sample #: 199 reconstruction error: 0.055124\n",
      "Epoch: 0 batch #: 67  of 300 sample #: 199 reconstruction error: 0.045453\n",
      "Epoch: 0 batch #: 68  of 300 sample #: 199 reconstruction error: 0.059627\n",
      "Epoch: 0 batch #: 69  of 300 sample #: 199 reconstruction error: 0.089605\n",
      "Epoch: 0 batch #: 70  of 300 sample #: 199 reconstruction error: 0.080227\n",
      "Epoch: 0 batch #: 71  of 300 sample #: 199 reconstruction error: 0.076320\n",
      "Epoch: 0 batch #: 72  of 300 sample #: 199 reconstruction error: 0.062341\n",
      "Epoch: 0 batch #: 73  of 300 sample #: 199 reconstruction error: 0.094362\n",
      "Epoch: 0 batch #: 74  of 300 sample #: 199 reconstruction error: 0.097925\n",
      "Epoch: 0 batch #: 75  of 300 sample #: 199 reconstruction error: 0.052890\n",
      "Epoch: 0 batch #: 76  of 300 sample #: 199 reconstruction error: 0.094258\n",
      "Epoch: 0 batch #: 77  of 300 sample #: 199 reconstruction error: 0.106686\n",
      "Epoch: 0 batch #: 78  of 300 sample #: 199 reconstruction error: 0.082406\n",
      "Epoch: 0 batch #: 79  of 300 sample #: 199 reconstruction error: 0.127084\n",
      "Epoch: 0 batch #: 80  of 300 sample #: 199 reconstruction error: 0.034672\n",
      "Epoch: 0 batch #: 81  of 300 sample #: 199 reconstruction error: 0.063789\n",
      "Epoch: 0 batch #: 82  of 300 sample #: 199 reconstruction error: 0.047193\n",
      "Epoch: 0 batch #: 83  of 300 sample #: 199 reconstruction error: 0.074099\n",
      "Epoch: 0 batch #: 84  of 300 sample #: 199 reconstruction error: 0.082775\n",
      "Epoch: 0 batch #: 85  of 300 sample #: 199 reconstruction error: 0.039616\n",
      "Epoch: 0 batch #: 86  of 300 sample #: 199 reconstruction error: 0.075765\n",
      "Epoch: 0 batch #: 87  of 300 sample #: 199 reconstruction error: 0.075966\n",
      "Epoch: 0 batch #: 88  of 300 sample #: 199 reconstruction error: 0.027992\n",
      "Epoch: 0 batch #: 89  of 300 sample #: 199 reconstruction error: 0.062840\n",
      "Epoch: 0 batch #: 90  of 300 sample #: 199 reconstruction error: 0.084503\n",
      "Epoch: 0 batch #: 91  of 300 sample #: 199 reconstruction error: 0.078438\n",
      "Epoch: 0 batch #: 92  of 300 sample #: 199 reconstruction error: 0.077308\n",
      "Epoch: 0 batch #: 93  of 300 sample #: 199 reconstruction error: 0.102072\n",
      "Epoch: 0 batch #: 94  of 300 sample #: 199 reconstruction error: 0.118162\n",
      "Epoch: 0 batch #: 95  of 300 sample #: 199 reconstruction error: 0.068927\n",
      "Epoch: 0 batch #: 96  of 300 sample #: 199 reconstruction error: 0.049423\n",
      "Epoch: 0 batch #: 97  of 300 sample #: 199 reconstruction error: 0.127124\n",
      "Epoch: 0 batch #: 98  of 300 sample #: 199 reconstruction error: 0.092961\n",
      "Epoch: 0 batch #: 99  of 300 sample #: 199 reconstruction error: 0.062628\n",
      "Epoch: 0 batch #: 100  of 300 sample #: 199 reconstruction error: 0.085418\n",
      "Epoch: 0 batch #: 101  of 300 sample #: 199 reconstruction error: 0.091824\n",
      "Epoch: 0 batch #: 102  of 300 sample #: 199 reconstruction error: 0.071047\n",
      "Epoch: 0 batch #: 103  of 300 sample #: 199 reconstruction error: 0.073047\n",
      "Epoch: 0 batch #: 104  of 300 sample #: 199 reconstruction error: 0.080471\n",
      "Epoch: 0 batch #: 105  of 300 sample #: 199 reconstruction error: 0.064048\n",
      "Epoch: 0 batch #: 106  of 300 sample #: 199 reconstruction error: 0.100189\n",
      "Epoch: 0 batch #: 107  of 300 sample #: 199 reconstruction error: 0.138013\n",
      "Epoch: 0 batch #: 108  of 300 sample #: 199 reconstruction error: 0.058763\n",
      "Epoch: 0 batch #: 109  of 300 sample #: 199 reconstruction error: 0.117398\n",
      "Epoch: 0 batch #: 110  of 300 sample #: 199 reconstruction error: 0.064229\n",
      "Epoch: 0 batch #: 111  of 300 sample #: 199 reconstruction error: 0.102613\n",
      "Epoch: 0 batch #: 112  of 300 sample #: 199 reconstruction error: 0.043497\n",
      "Epoch: 0 batch #: 113  of 300 sample #: 199 reconstruction error: 0.073714\n",
      "Epoch: 0 batch #: 114  of 300 sample #: 199 reconstruction error: 0.083568\n",
      "Epoch: 0 batch #: 115  of 300 sample #: 199 reconstruction error: 0.051002\n",
      "Epoch: 0 batch #: 116  of 300 sample #: 199 reconstruction error: 0.060774\n",
      "Epoch: 0 batch #: 117  of 300 sample #: 199 reconstruction error: 0.040577\n",
      "Epoch: 0 batch #: 118  of 300 sample #: 199 reconstruction error: 0.064167\n",
      "Epoch: 0 batch #: 119  of 300 sample #: 199 reconstruction error: 0.120322\n",
      "Epoch: 0 batch #: 120  of 300 sample #: 199 reconstruction error: 0.074545\n",
      "Epoch: 0 batch #: 121  of 300 sample #: 199 reconstruction error: 0.045579\n",
      "Epoch: 0 batch #: 122  of 300 sample #: 199 reconstruction error: 0.102693\n",
      "Epoch: 0 batch #: 123  of 300 sample #: 199 reconstruction error: 0.056015\n",
      "Epoch: 0 batch #: 124  of 300 sample #: 199 reconstruction error: 0.061939\n",
      "Epoch: 0 batch #: 125  of 300 sample #: 199 reconstruction error: 0.045251\n",
      "Epoch: 0 batch #: 126  of 300 sample #: 199 reconstruction error: 0.085687\n",
      "Epoch: 0 batch #: 127  of 300 sample #: 199 reconstruction error: 0.082722\n",
      "Epoch: 0 batch #: 128  of 300 sample #: 199 reconstruction error: 0.067091\n",
      "Epoch: 0 batch #: 129  of 300 sample #: 199 reconstruction error: 0.058918\n",
      "Epoch: 0 batch #: 130  of 300 sample #: 199 reconstruction error: 0.085653\n",
      "Epoch: 0 batch #: 131  of 300 sample #: 199 reconstruction error: 0.070830\n",
      "Epoch: 0 batch #: 132  of 300 sample #: 199 reconstruction error: 0.043350\n",
      "Epoch: 0 batch #: 133  of 300 sample #: 199 reconstruction error: 0.054119\n",
      "Epoch: 0 batch #: 134  of 300 sample #: 199 reconstruction error: 0.108762\n",
      "Epoch: 0 batch #: 135  of 300 sample #: 199 reconstruction error: 0.111715\n",
      "Epoch: 0 batch #: 136  of 300 sample #: 199 reconstruction error: 0.089519\n",
      "Epoch: 0 batch #: 137  of 300 sample #: 199 reconstruction error: 0.077749\n",
      "Epoch: 0 batch #: 138  of 300 sample #: 199 reconstruction error: 0.072962\n",
      "Epoch: 0 batch #: 139  of 300 sample #: 199 reconstruction error: 0.067533\n",
      "Epoch: 0 batch #: 140  of 300 sample #: 199 reconstruction error: 0.103457\n",
      "Epoch: 0 batch #: 141  of 300 sample #: 199 reconstruction error: 0.090993\n",
      "Epoch: 0 batch #: 142  of 300 sample #: 199 reconstruction error: 0.062156\n",
      "Epoch: 0 batch #: 143  of 300 sample #: 199 reconstruction error: 0.043461\n",
      "Epoch: 0 batch #: 144  of 300 sample #: 199 reconstruction error: 0.079438\n",
      "Epoch: 0 batch #: 145  of 300 sample #: 199 reconstruction error: 0.101315\n",
      "Epoch: 0 batch #: 146  of 300 sample #: 199 reconstruction error: 0.108632\n",
      "Epoch: 0 batch #: 147  of 300 sample #: 199 reconstruction error: 0.082665\n",
      "Epoch: 0 batch #: 148  of 300 sample #: 199 reconstruction error: 0.077695\n",
      "Epoch: 0 batch #: 149  of 300 sample #: 199 reconstruction error: 0.047749\n",
      "Epoch: 0 batch #: 150  of 300 sample #: 199 reconstruction error: 0.054264\n",
      "Epoch: 0 batch #: 151  of 300 sample #: 199 reconstruction error: 0.105146\n",
      "Epoch: 0 batch #: 152  of 300 sample #: 199 reconstruction error: 0.099571\n",
      "Epoch: 0 batch #: 153  of 300 sample #: 199 reconstruction error: 0.052499\n",
      "Epoch: 0 batch #: 154  of 300 sample #: 199 reconstruction error: 0.084647\n",
      "Epoch: 0 batch #: 155  of 300 sample #: 199 reconstruction error: 0.070291\n",
      "Epoch: 0 batch #: 156  of 300 sample #: 199 reconstruction error: 0.075177\n",
      "Epoch: 0 batch #: 157  of 300 sample #: 199 reconstruction error: 0.095325\n",
      "Epoch: 0 batch #: 158  of 300 sample #: 199 reconstruction error: 0.058565\n",
      "Epoch: 0 batch #: 159  of 300 sample #: 199 reconstruction error: 0.056880\n",
      "Epoch: 0 batch #: 160  of 300 sample #: 199 reconstruction error: 0.069623\n",
      "Epoch: 0 batch #: 161  of 300 sample #: 199 reconstruction error: 0.089798\n",
      "Epoch: 0 batch #: 162  of 300 sample #: 199 reconstruction error: 0.111272\n",
      "Epoch: 0 batch #: 163  of 300 sample #: 199 reconstruction error: 0.044219\n",
      "Epoch: 0 batch #: 164  of 300 sample #: 199 reconstruction error: 0.069322\n",
      "Epoch: 0 batch #: 165  of 300 sample #: 199 reconstruction error: 0.075593\n",
      "Epoch: 0 batch #: 166  of 300 sample #: 199 reconstruction error: 0.064477\n",
      "Epoch: 0 batch #: 167  of 300 sample #: 199 reconstruction error: 0.101785\n",
      "Epoch: 0 batch #: 168  of 300 sample #: 199 reconstruction error: 0.042079\n",
      "Epoch: 0 batch #: 169  of 300 sample #: 199 reconstruction error: 0.038036\n",
      "Epoch: 0 batch #: 170  of 300 sample #: 199 reconstruction error: 0.060749\n",
      "Epoch: 0 batch #: 171  of 300 sample #: 199 reconstruction error: 0.036108\n",
      "Epoch: 0 batch #: 172  of 300 sample #: 199 reconstruction error: 0.042534\n",
      "Epoch: 0 batch #: 173  of 300 sample #: 199 reconstruction error: 0.084293\n",
      "Epoch: 0 batch #: 174  of 300 sample #: 199 reconstruction error: 0.108643\n",
      "Epoch: 0 batch #: 175  of 300 sample #: 199 reconstruction error: 0.069357\n",
      "Epoch: 0 batch #: 176  of 300 sample #: 199 reconstruction error: 0.043130\n",
      "Epoch: 0 batch #: 177  of 300 sample #: 199 reconstruction error: 0.042355\n",
      "Epoch: 0 batch #: 178  of 300 sample #: 199 reconstruction error: 0.115659\n",
      "Epoch: 0 batch #: 179  of 300 sample #: 199 reconstruction error: 0.077360\n",
      "Epoch: 0 batch #: 180  of 300 sample #: 199 reconstruction error: 0.084397\n",
      "Epoch: 0 batch #: 181  of 300 sample #: 199 reconstruction error: 0.093067\n",
      "Epoch: 0 batch #: 182  of 300 sample #: 199 reconstruction error: 0.074160\n",
      "Epoch: 0 batch #: 183  of 300 sample #: 199 reconstruction error: 0.098435\n",
      "Epoch: 0 batch #: 184  of 300 sample #: 199 reconstruction error: 0.061152\n",
      "Epoch: 0 batch #: 185  of 300 sample #: 199 reconstruction error: 0.070232\n",
      "Epoch: 0 batch #: 186  of 300 sample #: 199 reconstruction error: 0.102514\n",
      "Epoch: 0 batch #: 187  of 300 sample #: 199 reconstruction error: 0.062360\n",
      "Epoch: 0 batch #: 188  of 300 sample #: 199 reconstruction error: 0.098820\n",
      "Epoch: 0 batch #: 189  of 300 sample #: 199 reconstruction error: 0.080207\n",
      "Epoch: 0 batch #: 190  of 300 sample #: 199 reconstruction error: 0.084261\n",
      "Epoch: 0 batch #: 191  of 300 sample #: 199 reconstruction error: 0.108259\n",
      "Epoch: 0 batch #: 192  of 300 sample #: 199 reconstruction error: 0.123185\n",
      "Epoch: 0 batch #: 193  of 300 sample #: 199 reconstruction error: 0.114303\n",
      "Epoch: 0 batch #: 194  of 300 sample #: 199 reconstruction error: 0.094845\n",
      "Epoch: 0 batch #: 195  of 300 sample #: 199 reconstruction error: 0.042637\n",
      "Epoch: 0 batch #: 196  of 300 sample #: 199 reconstruction error: 0.054316\n",
      "Epoch: 0 batch #: 197  of 300 sample #: 199 reconstruction error: 0.062408\n",
      "Epoch: 0 batch #: 198  of 300 sample #: 199 reconstruction error: 0.096376\n",
      "Epoch: 0 batch #: 199  of 300 sample #: 199 reconstruction error: 0.085896\n",
      "Epoch: 0 batch #: 200  of 300 sample #: 199 reconstruction error: 0.118613\n",
      "Epoch: 0 batch #: 201  of 300 sample #: 199 reconstruction error: 0.098115\n",
      "Epoch: 0 batch #: 202  of 300 sample #: 199 reconstruction error: 0.024637\n",
      "Epoch: 0 batch #: 203  of 300 sample #: 199 reconstruction error: 0.076156\n",
      "Epoch: 0 batch #: 204  of 300 sample #: 199 reconstruction error: 0.054166\n",
      "Epoch: 0 batch #: 205  of 300 sample #: 199 reconstruction error: 0.019910\n",
      "Epoch: 0 batch #: 206  of 300 sample #: 199 reconstruction error: 0.071185\n",
      "Epoch: 0 batch #: 207  of 300 sample #: 199 reconstruction error: 0.099195\n",
      "Epoch: 0 batch #: 208  of 300 sample #: 199 reconstruction error: 0.039354\n",
      "Epoch: 0 batch #: 209  of 300 sample #: 199 reconstruction error: 0.033437\n",
      "Epoch: 0 batch #: 210  of 300 sample #: 199 reconstruction error: 0.118825\n",
      "Epoch: 0 batch #: 211  of 300 sample #: 199 reconstruction error: 0.105780\n",
      "Epoch: 0 batch #: 212  of 300 sample #: 199 reconstruction error: 0.096877\n",
      "Epoch: 0 batch #: 213  of 300 sample #: 199 reconstruction error: 0.104749\n",
      "Epoch: 0 batch #: 214  of 300 sample #: 199 reconstruction error: 0.099153\n",
      "Epoch: 0 batch #: 215  of 300 sample #: 199 reconstruction error: 0.022434\n",
      "Epoch: 0 batch #: 216  of 300 sample #: 199 reconstruction error: 0.091103\n",
      "Epoch: 0 batch #: 217  of 300 sample #: 199 reconstruction error: 0.073508\n",
      "Epoch: 0 batch #: 218  of 300 sample #: 199 reconstruction error: 0.063555\n",
      "Epoch: 0 batch #: 219  of 300 sample #: 199 reconstruction error: 0.064108\n",
      "Epoch: 0 batch #: 220  of 300 sample #: 199 reconstruction error: 0.057180\n",
      "Epoch: 0 batch #: 221  of 300 sample #: 199 reconstruction error: 0.093025\n",
      "Epoch: 0 batch #: 222  of 300 sample #: 199 reconstruction error: 0.085526\n",
      "Epoch: 0 batch #: 223  of 300 sample #: 199 reconstruction error: 0.069187\n",
      "Epoch: 0 batch #: 224  of 300 sample #: 199 reconstruction error: 0.062175\n",
      "Epoch: 0 batch #: 225  of 300 sample #: 199 reconstruction error: 0.068562\n",
      "Epoch: 0 batch #: 226  of 300 sample #: 199 reconstruction error: 0.127887\n",
      "Epoch: 0 batch #: 227  of 300 sample #: 199 reconstruction error: 0.076966\n",
      "Epoch: 0 batch #: 228  of 300 sample #: 199 reconstruction error: 0.079231\n",
      "Epoch: 0 batch #: 229  of 300 sample #: 199 reconstruction error: 0.094187\n",
      "Epoch: 0 batch #: 230  of 300 sample #: 199 reconstruction error: 0.038625\n",
      "Epoch: 0 batch #: 231  of 300 sample #: 199 reconstruction error: 0.025069\n",
      "Epoch: 0 batch #: 232  of 300 sample #: 199 reconstruction error: 0.077522\n",
      "Epoch: 0 batch #: 233  of 300 sample #: 199 reconstruction error: 0.083090\n",
      "Epoch: 0 batch #: 234  of 300 sample #: 199 reconstruction error: 0.066788\n",
      "Epoch: 0 batch #: 235  of 300 sample #: 199 reconstruction error: 0.063537\n",
      "Epoch: 0 batch #: 236  of 300 sample #: 199 reconstruction error: 0.105133\n",
      "Epoch: 0 batch #: 237  of 300 sample #: 199 reconstruction error: 0.069791\n",
      "Epoch: 0 batch #: 238  of 300 sample #: 199 reconstruction error: 0.113905\n",
      "Epoch: 0 batch #: 239  of 300 sample #: 199 reconstruction error: 0.030636\n",
      "Epoch: 0 batch #: 240  of 300 sample #: 199 reconstruction error: 0.085431\n",
      "Epoch: 0 batch #: 241  of 300 sample #: 199 reconstruction error: 0.086852\n",
      "Epoch: 0 batch #: 242  of 300 sample #: 199 reconstruction error: 0.066758\n",
      "Epoch: 0 batch #: 243  of 300 sample #: 199 reconstruction error: 0.050837\n",
      "Epoch: 0 batch #: 244  of 300 sample #: 199 reconstruction error: 0.096069\n",
      "Epoch: 0 batch #: 245  of 300 sample #: 199 reconstruction error: 0.071372\n",
      "Epoch: 0 batch #: 246  of 300 sample #: 199 reconstruction error: 0.108218\n",
      "Epoch: 0 batch #: 247  of 300 sample #: 199 reconstruction error: 0.047641\n",
      "Epoch: 0 batch #: 248  of 300 sample #: 199 reconstruction error: 0.072024\n",
      "Epoch: 0 batch #: 249  of 300 sample #: 199 reconstruction error: 0.047952\n",
      "Epoch: 0 batch #: 250  of 300 sample #: 199 reconstruction error: 0.096835\n",
      "Epoch: 0 batch #: 251  of 300 sample #: 199 reconstruction error: 0.045875\n",
      "Epoch: 0 batch #: 252  of 300 sample #: 199 reconstruction error: 0.069066\n",
      "Epoch: 0 batch #: 253  of 300 sample #: 199 reconstruction error: 0.064068\n",
      "Epoch: 0 batch #: 254  of 300 sample #: 199 reconstruction error: 0.036180\n",
      "Epoch: 0 batch #: 255  of 300 sample #: 199 reconstruction error: 0.062365\n",
      "Epoch: 0 batch #: 256  of 300 sample #: 199 reconstruction error: 0.084503\n",
      "Epoch: 0 batch #: 257  of 300 sample #: 199 reconstruction error: 0.083156\n",
      "Epoch: 0 batch #: 258  of 300 sample #: 199 reconstruction error: 0.085843\n",
      "Epoch: 0 batch #: 259  of 300 sample #: 199 reconstruction error: 0.077019\n",
      "Epoch: 0 batch #: 260  of 300 sample #: 199 reconstruction error: 0.108818\n",
      "Epoch: 0 batch #: 261  of 300 sample #: 199 reconstruction error: 0.040404\n",
      "Epoch: 0 batch #: 262  of 300 sample #: 199 reconstruction error: 0.043044\n",
      "Epoch: 0 batch #: 263  of 300 sample #: 199 reconstruction error: 0.065297\n",
      "Epoch: 0 batch #: 264  of 300 sample #: 199 reconstruction error: 0.073234\n",
      "Epoch: 0 batch #: 265  of 300 sample #: 199 reconstruction error: 0.040272\n",
      "Epoch: 0 batch #: 266  of 300 sample #: 199 reconstruction error: 0.041221\n",
      "Epoch: 0 batch #: 267  of 300 sample #: 199 reconstruction error: 0.063074\n",
      "Epoch: 0 batch #: 268  of 300 sample #: 199 reconstruction error: 0.037270\n",
      "Epoch: 0 batch #: 269  of 300 sample #: 199 reconstruction error: 0.080365\n",
      "Epoch: 0 batch #: 270  of 300 sample #: 199 reconstruction error: 0.064304\n",
      "Epoch: 0 batch #: 271  of 300 sample #: 199 reconstruction error: 0.051931\n",
      "Epoch: 0 batch #: 272  of 300 sample #: 199 reconstruction error: 0.057954\n",
      "Epoch: 0 batch #: 273  of 300 sample #: 199 reconstruction error: 0.041932\n",
      "Epoch: 0 batch #: 274  of 300 sample #: 199 reconstruction error: 0.050860\n",
      "Epoch: 0 batch #: 275  of 300 sample #: 199 reconstruction error: 0.082419\n",
      "Epoch: 0 batch #: 276  of 300 sample #: 199 reconstruction error: 0.071636\n",
      "Epoch: 0 batch #: 277  of 300 sample #: 199 reconstruction error: 0.078896\n",
      "Epoch: 0 batch #: 278  of 300 sample #: 199 reconstruction error: 0.056999\n",
      "Epoch: 0 batch #: 279  of 300 sample #: 199 reconstruction error: 0.052907\n",
      "Epoch: 0 batch #: 280  of 300 sample #: 199 reconstruction error: 0.077104\n",
      "Epoch: 0 batch #: 281  of 300 sample #: 199 reconstruction error: 0.080146\n",
      "Epoch: 0 batch #: 282  of 300 sample #: 199 reconstruction error: 0.096912\n",
      "Epoch: 0 batch #: 283  of 300 sample #: 199 reconstruction error: 0.048947\n",
      "Epoch: 0 batch #: 284  of 300 sample #: 199 reconstruction error: 0.063163\n",
      "Epoch: 0 batch #: 285  of 300 sample #: 199 reconstruction error: 0.064160\n",
      "Epoch: 0 batch #: 286  of 300 sample #: 199 reconstruction error: 0.089186\n",
      "Epoch: 0 batch #: 287  of 300 sample #: 199 reconstruction error: 0.065502\n",
      "Epoch: 0 batch #: 288  of 300 sample #: 199 reconstruction error: 0.027787\n",
      "Epoch: 0 batch #: 289  of 300 sample #: 199 reconstruction error: 0.092455\n",
      "Epoch: 0 batch #: 290  of 300 sample #: 199 reconstruction error: 0.091931\n",
      "Epoch: 0 batch #: 291  of 300 sample #: 199 reconstruction error: 0.104707\n",
      "Epoch: 0 batch #: 292  of 300 sample #: 199 reconstruction error: 0.064020\n",
      "Epoch: 0 batch #: 293  of 300 sample #: 199 reconstruction error: 0.065569\n",
      "Epoch: 0 batch #: 294  of 300 sample #: 199 reconstruction error: 0.092175\n",
      "Epoch: 0 batch #: 295  of 300 sample #: 199 reconstruction error: 0.075812\n",
      "Epoch: 0 batch #: 296  of 300 sample #: 199 reconstruction error: 0.029670\n",
      "Epoch: 0 batch #: 297  of 300 sample #: 199 reconstruction error: 0.113265\n",
      "Epoch: 0 batch #: 298  of 300 sample #: 199 reconstruction error: 0.047845\n",
      "Epoch: 0 batch #: 299  of 300 sample #: 199 reconstruction error: 0.049655\n",
      "Epoch: 0 batch #: 300  of 300 sample #: 199 reconstruction error: 0.084745\n"
     ]
    }
   ],
   "source": [
    "#Parameters\n",
    "alpha = 0.01\n",
    "epochs = 1\n",
    "batchsize = 200\n",
    "weights = []\n",
    "errors = []\n",
    "batch_number = 0\n",
    "K = 1\n",
    "\n",
    "#creating datasets\n",
    "train_ds = \\\n",
    "    tf.data.Dataset.from_tensor_slices((trX, trY)).batch(batchsize)\n",
    "\n",
    "for epoch in range(epochs):\n",
    "    for batch_x, batch_y in train_ds:\n",
    "        batch_number += 1\n",
    "        for i_sample in range(batchsize):           \n",
    "            for k in range(K):\n",
    "                v0_state = batch_x[i_sample]\n",
    "                h0_state = hidden_layer(v0_state, W, hb)\n",
    "                v1_state = reconstructed_output(h0_state, W, vb)\n",
    "                h1_state = hidden_layer(v1_state, W, hb)\n",
    "\n",
    "                delta_W = tf.matmul(tf.transpose([v0_state]), h0_state) - tf.matmul(tf.transpose([v1_state]), h1_state)\n",
    "                W = W + alpha * delta_W\n",
    "\n",
    "                vb = vb + alpha * tf.reduce_mean(v0_state - v1_state, 0)\n",
    "                hb = hb + alpha * tf.reduce_mean(h0_state - h1_state, 0) \n",
    "\n",
    "                v0_state = v1_state\n",
    "\n",
    "            if i_sample == batchsize-1:\n",
    "                err = error(batch_x[i_sample], v1_state)\n",
    "                errors.append(err)\n",
    "                weights.append(W)\n",
    "                print ( 'Epoch: %d' % epoch, \n",
    "                       \"batch #: %i \" % batch_number, \"of %i\" % int(60e3/batchsize), \n",
    "                       \"sample #: %i\" % i_sample,\n",
    "                       'reconstruction error: %f' % err)\n",
    "\n"
   ]
  },
  {
   "cell_type": "markdown",
   "metadata": {},
   "source": [
    "Let's take a look at the errors at the end of each batch:\n"
   ]
  },
  {
   "cell_type": "code",
   "execution_count": 25,
   "metadata": {},
   "outputs": [
    {
     "data": {
      "image/png": "[encoded data removed]",
      "text/plain": [
       "<Figure size 432x288 with 1 Axes>"
      ]
     },
     "metadata": {
      "needs_background": "light"
     },
     "output_type": "display_data"
    }
   ],
   "source": [
    "plt.plot(errors)\n",
    "plt.xlabel(\"Batch Number\")\n",
    "plt.ylabel(\"Error\")\n",
    "plt.show()"
   ]
  },
  {
   "cell_type": "markdown",
   "metadata": {},
   "source": [
    "What is the final weight matrix $W$ after training?\n"
   ]
  },
  {
   "cell_type": "code",
   "execution_count": 26,
   "metadata": {},
   "outputs": [
    {
     "name": "stdout",
     "output_type": "stream",
     "text": [
      "[[-0.19000001 -0.33999994 -0.28       ... -0.44999984 -0.4899998\n",
      "  -0.4999998 ]\n",
      " [-0.16       -0.3899999  -0.26000002 ... -0.4899998  -0.55999976\n",
      "  -0.45999983]\n",
      " [-0.19000001 -0.31999996 -0.20000002 ... -0.4899998  -0.5399998\n",
      "  -0.44999984]\n",
      " ...\n",
      " [-0.13999999 -0.3799999  -0.25000003 ... -0.4799998  -0.56999975\n",
      "  -0.3999999 ]\n",
      " [-0.20000002 -0.3799999  -0.24000004 ... -0.42999986 -0.5099998\n",
      "  -0.41999987]\n",
      " [-0.18       -0.34999993 -0.28       ... -0.4899998  -0.5199998\n",
      "  -0.42999986]]\n"
     ]
    }
   ],
   "source": [
    "print(W.numpy()) # a weight matrix of shape (50,784)"
   ]
  },
  {
   "cell_type": "markdown",
   "metadata": {},
   "source": [
    "<a id=\"ref5\"></a>\n",
    "\n",
    "<h3>Learned features</h3> \n"
   ]
  },
  {
   "cell_type": "markdown",
   "metadata": {},
   "source": [
    "We can take each hidden unit and visualize the connections between that hidden unit and each element in the input vector. In our case, we have 50 hidden units. Lets visualize those.\n"
   ]
  },
  {
   "cell_type": "markdown",
   "metadata": {},
   "source": [
    "Let's plot the current weights:\n",
    "<b>tile_raster_images</b> helps in generating an easy to grasp image from a set of samples or weights. It transforms the <b>uw</b> (with one flattened image per row of size 784), into an array (of size $28\\times28$) in which images are reshaped and laid out like tiles on a floor.\n"
   ]
  },
  {
   "cell_type": "code",
   "execution_count": 27,
   "metadata": {},
   "outputs": [
    {
     "data": {
      "image/png": "[encoded data removed]",
      "text/plain": [
       "<Figure size 1296x1296 with 1 Axes>"
      ]
     },
     "metadata": {
      "needs_background": "light"
     },
     "output_type": "display_data"
    }
   ],
   "source": [
    "tile_raster_images(X=W.numpy().T, img_shape=(28, 28), tile_shape=(5, 10), tile_spacing=(1, 1))\n",
    "import matplotlib.pyplot as plt\n",
    "from PIL import Image\n",
    "%matplotlib inline\n",
    "image = Image.fromarray(tile_raster_images(X=W.numpy().T, img_shape=(28, 28) ,tile_shape=(5, 10), tile_spacing=(1, 1)))\n",
    "### Plot image\n",
    "plt.rcParams['figure.figsize'] = (18.0, 18.0)\n",
    "imgplot = plt.imshow(image)\n",
    "imgplot.set_cmap('gray')  "
   ]
  },
  {
   "cell_type": "markdown",
   "metadata": {},
   "source": [
    "Each tile in the above visualization corresponds to a vector of connections between a hidden unit and visible layer's units. \n"
   ]
  },
  {
   "cell_type": "markdown",
   "metadata": {},
   "source": [
    "Let's look at one of the learned weights corresponding to one of hidden units for example. In this particular square, the gray color represents weight = 0, and the whiter it is, the more positive the weights are (closer to 1). Conversely, the darker pixels are, the more negative the weights. The positive pixels will increase the probability of activation in hidden units (after multiplying by input/visible pixels), and negative pixels will decrease the probability of a unit hidden to be 1 (activated). So, why is this important?  So we can see that this specific square (hidden unit) can detect a feature (e.g. a \"/\" shape) and if it exists in the input.\n"
   ]
  },
  {
   "cell_type": "code",
   "execution_count": 28,
   "metadata": {},
   "outputs": [
    {
     "data": {
      "image/png": "[encoded data removed]",
      "text/plain": [
       "<Figure size 288x288 with 1 Axes>"
      ]
     },
     "metadata": {
      "needs_background": "light"
     },
     "output_type": "display_data"
    }
   ],
   "source": [
    "from PIL import Image\n",
    "image = Image.fromarray(tile_raster_images(X =W.numpy().T[10:11], img_shape=(28, 28),tile_shape=(1, 1), tile_spacing=(1, 1)))\n",
    "### Plot image\n",
    "plt.rcParams['figure.figsize'] = (4.0, 4.0)\n",
    "imgplot = plt.imshow(image)\n",
    "imgplot.set_cmap('gray')  "
   ]
  },
  {
   "cell_type": "markdown",
   "metadata": {},
   "source": [
    "Let's look at the reconstruction of an image now. Imagine that we have a destructed image of figure 3. Lets see if our trained network can fix it:\n",
    "\n",
    "First we plot the image:\n"
   ]
  },
  {
   "cell_type": "code",
   "execution_count": 29,
   "metadata": {},
   "outputs": [
    {
     "name": "stdout",
     "output_type": "stream",
     "text": [
      "--2021-02-04 12:13:17--  https://ibm.box.com/shared/static/vvm1b63uvuxq88vbw9znpwu5ol380mco.jpg\n",
      "Resolving ibm.box.com (ibm.box.com)... 107.152.26.197\n",
      "Connecting to ibm.box.com (ibm.box.com)|107.152.26.197|:443... connected.\n",
      "HTTP request sent, awaiting response... 301 Moved Permanently\n",
      "Location: /public/static/vvm1b63uvuxq88vbw9znpwu5ol380mco.jpg [following]\n",
      "--2021-02-04 12:13:18--  https://ibm.box.com/public/static/vvm1b63uvuxq88vbw9znpwu5ol380mco.jpg\n",
      "Reusing existing connection to ibm.box.com:443.\n",
      "HTTP request sent, awaiting response... 301 Moved Permanently\n",
      "Location: https://ibm.ent.box.com/public/static/vvm1b63uvuxq88vbw9znpwu5ol380mco.jpg [following]\n",
      "--2021-02-04 12:13:18--  https://ibm.ent.box.com/public/static/vvm1b63uvuxq88vbw9znpwu5ol380mco.jpg\n",
      "Resolving ibm.ent.box.com (ibm.ent.box.com)... 107.152.26.201\n",
      "Connecting to ibm.ent.box.com (ibm.ent.box.com)|107.152.26.201|:443... connected.\n",
      "HTTP request sent, awaiting response... 302 Found\n",
      "Location: https://public.boxcloud.com/d/1/b1!Z80mdCTarx3_CNRNztWHeGrjCj4NgQUX8jijYukhsMiR1YLHDZAIvvnDu6CnfR9n3T4ihFimCyBIusYUSYlcnrDwde_Aw5lKQyAcaeVs2Bo2M54HXWVr5-0TsmFyTC30_lhanPineYPE7gz7hvoENvVTM1e16P9BfCcRGg5EkrIBtdknD7vxbFUqGPGfFtNi-3xRxct29YYvPJV0Y2F5Wcq9ljXiCaUrgvcxdrH7vIKftgIeKcBfNqOmiTy04VtxYGJ6loipP_wdMnVQznqLKhDkZH6YfK5yCGq0ZhMmhfNMi693ijfFP2biWzmq02as1zFdfGNmKE0IvTmnrdKRVHcz8dfU4T7kdQG2H27rLIB4LKXsHqJoo8tlD0k2p8Ll_PIHqZ0x5f1gMcYGeGRTLZj9s6WzM4WNtMK7WPw0NBMrklTEGVwMwvLauf9Bdt4NUfnHUw4L8RvofFf8ry2-fiVK4CElUdmpe13NrDlXDdxOGDGb03_BVkIY5EEStO-n9K2Kn8QkU7mXGnFiMnxL2ZaNtDh6wTl-R9z1g-tenStBWLYVQ-1BWZt8v5_sZUEFbUwCFuja-de6A3O7cp_bT6ciIMgsSyWEKsmrInr1nGV2gWU1X0Wq6Hs7dUtmRlO03pFQgFqP3WJqzEKHlH8YjSlgxsGaGRJH4w-QoO_q914sWbElq2CVuYCEqM9Ab1iCV-C5QDec9SfFUlygX2GaAHzQOLUCFPY6MLR5xoY9Xqbyr7qpzHxm6_2TEYkhAF19J5hbbzEjMZ1efxG2n1Yg2JD0IlgagWaRCbfLiWBb26VUXl3ZywQNJh3Qxey0oJHLUrmIfT1sH5Omk-bLODPDVMMyzszaraSGPXvPYsk1V_IHzJNrE1_j4voCGNWxyA-Hk8eb62VQ5815ownrrWA865-dGCt-Bk6Bd6HOqAeZJ9MgCWs4bAoh9l8huR1eHZMh-Xo9An9n475-8pY4L8dm4d-HbccpLcLmZCStIi6aPvDF62ENsjfZwe2VOik-I70eN5MAxkexVlK6jgbLsYR1F46rEZEXVHFN7jizuw8pxc2GMSQ4IuL_tdi6Ys4Q5IRxibDGcE3Z9XVReCw6PPIsCGtx6ErkFmR30S0Td19i84M_1wzT1eG4Yvjtb_5x-8r-wf8oST-pnOhQlZ1_-k9brtiKKbxlspio_AOgVgdlzT6R8YY4fMLFaNttUFiUwBboCUDYjqe4etECfzGzZuN_EohmyGJ37eepjU2vswXZ_ZyGESO7qTkaSEDJmuSPNnx8faz7cx9qkRfHrkvTPJfG9rGDWDtJr0Rud8efiWMmyoYi7opDDP5EcfQZIluqy8vU7BlkVx_PyVTlpCiXg2WBYj8t629vWcngdwFtZw3-FUj-f0JLq7HhrxF35qs6rZikkstk4Dn5ySpGUsnr-AwjmCDBUA4./download [following]\n",
      "--2021-02-04 12:13:19--  https://public.boxcloud.com/d/1/b1!Z80mdCTarx3_CNRNztWHeGrjCj4NgQUX8jijYukhsMiR1YLHDZAIvvnDu6CnfR9n3T4ihFimCyBIusYUSYlcnrDwde_Aw5lKQyAcaeVs2Bo2M54HXWVr5-0TsmFyTC30_lhanPineYPE7gz7hvoENvVTM1e16P9BfCcRGg5EkrIBtdknD7vxbFUqGPGfFtNi-3xRxct29YYvPJV0Y2F5Wcq9ljXiCaUrgvcxdrH7vIKftgIeKcBfNqOmiTy04VtxYGJ6loipP_wdMnVQznqLKhDkZH6YfK5yCGq0ZhMmhfNMi693ijfFP2biWzmq02as1zFdfGNmKE0IvTmnrdKRVHcz8dfU4T7kdQG2H27rLIB4LKXsHqJoo8tlD0k2p8Ll_PIHqZ0x5f1gMcYGeGRTLZj9s6WzM4WNtMK7WPw0NBMrklTEGVwMwvLauf9Bdt4NUfnHUw4L8RvofFf8ry2-fiVK4CElUdmpe13NrDlXDdxOGDGb03_BVkIY5EEStO-n9K2Kn8QkU7mXGnFiMnxL2ZaNtDh6wTl-R9z1g-tenStBWLYVQ-1BWZt8v5_sZUEFbUwCFuja-de6A3O7cp_bT6ciIMgsSyWEKsmrInr1nGV2gWU1X0Wq6Hs7dUtmRlO03pFQgFqP3WJqzEKHlH8YjSlgxsGaGRJH4w-QoO_q914sWbElq2CVuYCEqM9Ab1iCV-C5QDec9SfFUlygX2GaAHzQOLUCFPY6MLR5xoY9Xqbyr7qpzHxm6_2TEYkhAF19J5hbbzEjMZ1efxG2n1Yg2JD0IlgagWaRCbfLiWBb26VUXl3ZywQNJh3Qxey0oJHLUrmIfT1sH5Omk-bLODPDVMMyzszaraSGPXvPYsk1V_IHzJNrE1_j4voCGNWxyA-Hk8eb62VQ5815ownrrWA865-dGCt-Bk6Bd6HOqAeZJ9MgCWs4bAoh9l8huR1eHZMh-Xo9An9n475-8pY4L8dm4d-HbccpLcLmZCStIi6aPvDF62ENsjfZwe2VOik-I70eN5MAxkexVlK6jgbLsYR1F46rEZEXVHFN7jizuw8pxc2GMSQ4IuL_tdi6Ys4Q5IRxibDGcE3Z9XVReCw6PPIsCGtx6ErkFmR30S0Td19i84M_1wzT1eG4Yvjtb_5x-8r-wf8oST-pnOhQlZ1_-k9brtiKKbxlspio_AOgVgdlzT6R8YY4fMLFaNttUFiUwBboCUDYjqe4etECfzGzZuN_EohmyGJ37eepjU2vswXZ_ZyGESO7qTkaSEDJmuSPNnx8faz7cx9qkRfHrkvTPJfG9rGDWDtJr0Rud8efiWMmyoYi7opDDP5EcfQZIluqy8vU7BlkVx_PyVTlpCiXg2WBYj8t629vWcngdwFtZw3-FUj-f0JLq7HhrxF35qs6rZikkstk4Dn5ySpGUsnr-AwjmCDBUA4./download\n",
      "Resolving public.boxcloud.com (public.boxcloud.com)... 107.152.26.200\n",
      "Connecting to public.boxcloud.com (public.boxcloud.com)|107.152.26.200|:443... connected.\n",
      "HTTP request sent, awaiting response... 200 OK\n",
      "Length: 24383 (24K) [image/jpeg]\n",
      "Saving to: ‘destructed3.jpg’\n",
      "\n",
      "destructed3.jpg     100%[===================>]  23.81K   107KB/s    in 0.2s    \n",
      "\n",
      "2021-02-04 12:13:21 (107 KB/s) - ‘destructed3.jpg’ saved [24383/24383]\n",
      "\n"
     ]
    },
    {
     "data": {
      "image/png": "[encoded data removed]",
      "text/plain": [
       "<PIL.JpegImagePlugin.JpegImageFile image mode=RGB size=181x181 at 0x7F8020571130>"
      ]
     },
     "execution_count": 29,
     "metadata": {},
     "output_type": "execute_result"
    }
   ],
   "source": [
    "!wget -O destructed3.jpg  https://ibm.box.com/shared/static/vvm1b63uvuxq88vbw9znpwu5ol380mco.jpg\n",
    "img = Image.open('destructed3.jpg')\n",
    "img"
   ]
  },
  {
   "cell_type": "markdown",
   "metadata": {},
   "source": [
    "Now let's pass this image through the neural net:\n"
   ]
  },
  {
   "cell_type": "code",
   "execution_count": 30,
   "metadata": {},
   "outputs": [],
   "source": [
    "# convert the image to a 1d numpy array\n",
    "sample_case = np.array(img.convert('I').resize((28,28))).ravel().reshape((1, -1))/255.0\n",
    "\n",
    "sample_case = tf.cast(sample_case, dtype=tf.float32)"
   ]
  },
  {
   "cell_type": "markdown",
   "metadata": {},
   "source": [
    "Feed the sample case into the network and reconstruct the output:\n"
   ]
  },
  {
   "cell_type": "code",
   "execution_count": 31,
   "metadata": {},
   "outputs": [
    {
     "name": "stdout",
     "output_type": "stream",
     "text": [
      "Probability nodes in hidden layer: tf.Tensor(\n",
      "[[6.1285415e-17 9.9999309e-01 3.4703322e-13 1.2284875e-04 9.0289009e-01\n",
      "  1.4978269e-06 2.1916568e-02 2.8762555e-01 6.9274463e-08 6.7795463e-07\n",
      "  6.0639002e-07 9.8324156e-01 1.1330045e-06 1.0047495e-02 9.9999964e-01\n",
      "  6.6934360e-14 1.0000000e+00 1.5256337e-06 9.9891120e-01 9.9999928e-01\n",
      "  1.0011792e-03 2.0087320e-01 1.3510011e-08 2.4256638e-10 5.5773169e-02\n",
      "  8.2240518e-08 1.9435115e-17 1.6339539e-08 2.7583480e-02 1.0000000e+00\n",
      "  3.4489758e-11 6.6915741e-06 3.1944452e-07 1.0000000e+00 6.5954244e-01\n",
      "  9.9999869e-01 1.1910093e-07 1.0000000e+00 1.0000000e+00 1.7487969e-14\n",
      "  7.3005706e-02 2.0974874e-04 1.2854936e-07 3.6357159e-07 2.5412440e-04\n",
      "  1.3331023e-01 1.0550618e-03 9.9998617e-01 1.0000000e+00 7.3093635e-01]], shape=(1, 50), dtype=float32)\n",
      "activated nodes in hidden layer: tf.Tensor(\n",
      "[[0. 1. 0. 0. 1. 0. 0. 0. 0. 0. 0. 1. 0. 0. 1. 0. 1. 0. 1. 1. 0. 0. 0. 0.\n",
      "  0. 0. 0. 0. 0. 1. 0. 0. 0. 1. 1. 1. 0. 1. 1. 0. 0. 0. 0. 0. 0. 0. 0. 1.\n",
      "  1. 1.]], shape=(1, 50), dtype=float32)\n",
      "tf.Tensor(\n",
      "[[5.24193048e-04 3.02582979e-04 3.80665064e-04 5.67883253e-04\n",
      "  3.08662653e-04 3.31014395e-04 4.88817692e-04 3.96192074e-04\n",
      "  3.08662653e-04 5.91009855e-04 4.33504581e-04 3.11732292e-04\n",
      "  3.13639641e-04 3.57687473e-04 3.91423702e-04 5.00112772e-04\n",
      "  3.76969576e-04 4.04208899e-04 6.02990389e-04 3.69489193e-04\n",
      "  3.65823507e-04 4.88817692e-04 3.02582979e-04 2.47687101e-04\n",
      "  4.16517258e-04 4.83989716e-04 4.79161739e-04 4.60326672e-04\n",
      "  4.00245190e-04 4.51236963e-04 5.51074743e-04 2.55256891e-04\n",
      "  3.67403030e-04 4.80979681e-04 3.34292650e-04 3.51756811e-04\n",
      "  5.74231148e-04 3.96400690e-04 6.01530075e-04 6.12288713e-04\n",
      "  7.60436058e-04 5.21123409e-04 5.16772270e-04 5.37604094e-04\n",
      "  7.90446997e-04 5.79386950e-04 5.78045845e-04 3.51995230e-04\n",
      "  3.88741493e-04 4.27961349e-04 3.64094973e-04 2.87204981e-04\n",
      "  2.96592712e-04 4.29272652e-04 2.68280506e-04 3.27765942e-04\n",
      "  5.03748655e-04 4.60356474e-04 5.08815050e-04 3.62783670e-04\n",
      "  2.61157751e-04 3.54856253e-04 4.00125980e-04 4.27752733e-04\n",
      "  4.81098890e-04 6.39468431e-04 1.14127462e-04 2.24739313e-04\n",
      "  1.15528281e-04 1.62482262e-04 3.95447016e-04 4.27931547e-04\n",
      "  3.94582748e-04 2.49564648e-04 1.30951405e-04 8.19495544e-05\n",
      "  1.65700912e-04 3.16590071e-04 6.89923763e-04 5.90711832e-04\n",
      "  5.78284264e-04 5.07473946e-04 3.92347574e-04 3.62217426e-04\n",
      "  3.73184681e-04 3.65823507e-04 4.47511673e-04 3.69012356e-04\n",
      "  5.94377518e-04 5.84870577e-04 5.59955835e-04 3.65644693e-04\n",
      "  2.31772661e-04 1.44928694e-04 6.07147522e-05 9.14395641e-05\n",
      "  2.53051519e-04 5.45859337e-04 4.70310450e-04 2.15181708e-03\n",
      "  4.03267145e-03 3.46508622e-03 1.64780021e-03 2.03707814e-03\n",
      "  7.69048929e-04 8.31902027e-04 4.68045473e-04 6.05314970e-04\n",
      "  6.31004572e-04 4.56184149e-04 4.05341387e-04 4.24981117e-04\n",
      "  2.68280506e-04 6.01679087e-04 5.00351191e-04 5.34832478e-04\n",
      "  4.65571880e-04 1.64058805e-03 9.56267118e-04 4.32610512e-04\n",
      "  2.15202570e-04 1.81227922e-04 3.29196453e-04 3.62873077e-04\n",
      "  7.34269619e-04 3.48150730e-03 1.90865993e-02 9.91212428e-02\n",
      "  1.07532412e-01 2.35059768e-01 9.35068130e-02 4.45485413e-02\n",
      "  1.49986148e-02 3.32045555e-03 9.06571746e-03 7.85937905e-03\n",
      "  3.60843539e-03 2.14171410e-03 4.77910042e-04 4.87983227e-04\n",
      "  3.84569168e-04 4.08321619e-04 5.01990318e-04 6.63638115e-04\n",
      "  2.07826495e-03 1.41289830e-03 1.94242597e-03 2.58606672e-03\n",
      "  1.84303522e-03 3.88282537e-03 5.31160831e-03 1.12131834e-02\n",
      "  4.44522798e-02 2.55064726e-01 5.89675784e-01 9.23894525e-01\n",
      "  8.95576000e-01 8.95681262e-01 6.50344849e-01 5.33459008e-01\n",
      "  1.31891280e-01 2.46893466e-02 1.15829408e-02 1.30805075e-02\n",
      "  6.29520416e-03 2.58859992e-03 1.41575933e-03 3.60727310e-04\n",
      "  3.47942114e-04 3.90440226e-04 5.84244728e-04 1.03890896e-03\n",
      "  3.17695737e-03 2.63702869e-03 3.30111384e-03 3.68094444e-03\n",
      "  5.92422485e-03 5.94931841e-03 3.88311744e-02 2.53463268e-01\n",
      "  7.20669270e-01 9.37863469e-01 9.74124074e-01 9.77391958e-01\n",
      "  9.86483037e-01 9.76484954e-01 9.51833069e-01 7.51568198e-01\n",
      "  3.53969455e-01 6.27356172e-02 2.52521932e-02 1.56301856e-02\n",
      "  7.19624758e-03 3.62342596e-03 1.63796544e-03 2.49862671e-04\n",
      "  3.17782164e-04 4.16725874e-04 6.17295504e-04 1.64547563e-03\n",
      "  3.23823094e-03 6.38741255e-03 9.43192840e-03 9.76854563e-03\n",
      "  1.80436671e-02 5.99945188e-02 2.06104070e-01 8.11268508e-01\n",
      "  9.56758738e-01 9.68679070e-01 9.78549302e-01 9.75459278e-01\n",
      "  9.53526855e-01 9.17349696e-01 9.28978264e-01 7.58497953e-01\n",
      "  5.86648345e-01 1.44273698e-01 3.84818614e-02 9.64951515e-03\n",
      "  5.64289093e-03 1.69232488e-03 1.53911114e-03 5.05954027e-04\n",
      "  5.74737787e-04 5.15222549e-04 6.49958849e-04 9.07242298e-04\n",
      "  2.49633193e-03 5.79214096e-03 2.02529728e-02 4.37038541e-02\n",
      "  3.17942500e-02 1.19399846e-01 5.13151407e-01 8.71593118e-01\n",
      "  9.16110575e-01 7.66615272e-01 4.26284224e-01 3.47149760e-01\n",
      "  3.34317923e-01 5.85297287e-01 5.89536905e-01 7.51465321e-01\n",
      "  4.77042526e-01 2.69569516e-01 5.31557500e-02 6.48480654e-03\n",
      "  3.38962674e-03 2.19067931e-03 2.06872821e-03 6.13689423e-04\n",
      "  4.36842442e-04 4.71502542e-04 4.37051058e-04 1.03491545e-03\n",
      "  2.31438875e-03 6.75755739e-03 3.61913443e-02 6.45028949e-02\n",
      "  5.89247048e-02 3.13880384e-01 3.90504986e-01 5.41591823e-01\n",
      "  1.99981928e-01 3.21595967e-02 1.03581250e-02 1.41735375e-02\n",
      "  7.58667886e-02 1.69124871e-01 4.45520967e-01 7.87000835e-01\n",
      "  6.04588687e-01 4.46199268e-01 1.22817844e-01 1.33012235e-02\n",
      "  3.20953131e-03 1.94233656e-03 9.42558050e-04 4.45455313e-04\n",
      "  4.39703465e-04 7.16388226e-04 4.74631786e-04 1.01488829e-03\n",
      "  4.77692485e-03 2.45873034e-02 3.13367844e-02 4.78787720e-02\n",
      "  9.04352367e-02 1.81065083e-01 1.33502841e-01 5.76500595e-02\n",
      "  1.02100074e-02 2.89922953e-03 5.65469265e-03 4.39552367e-02\n",
      "  1.82195008e-01 4.97340053e-01 7.44542539e-01 8.44862878e-01\n",
      "  7.84717023e-01 4.22889680e-01 7.88855255e-02 1.96033716e-02\n",
      "  1.99127197e-03 1.91986561e-03 8.30322504e-04 6.05762005e-04\n",
      "  2.86459923e-04 6.32733107e-04 5.18023968e-04 6.70820475e-04\n",
      "  4.29320335e-03 1.58877671e-02 3.90468836e-02 4.24218178e-02\n",
      "  8.35521221e-02 1.31651640e-01 7.73383379e-02 1.20208561e-02\n",
      "  1.99183822e-03 6.58580661e-03 2.48302519e-02 4.03614074e-01\n",
      "  7.13557303e-01 8.06136012e-01 9.08670425e-01 9.02123272e-01\n",
      "  7.33997107e-01 1.45151198e-01 1.96966529e-02 5.38527966e-03\n",
      "  2.07057595e-03 2.06118822e-03 7.83860683e-04 3.78668308e-04\n",
      "  4.10944223e-04 3.62277031e-04 6.11811876e-04 9.08225775e-04\n",
      "  1.82408094e-03 1.68720484e-02 3.23403180e-02 5.32789528e-02\n",
      "  1.32156432e-01 1.11509949e-01 7.30285645e-02 4.30352092e-02\n",
      "  8.36631954e-02 1.89132690e-01 6.38374448e-01 9.10268724e-01\n",
      "  9.18853879e-01 9.19967115e-01 8.54075670e-01 8.29162121e-01\n",
      "  4.24939930e-01 1.15714222e-01 8.52251053e-03 1.02075934e-03\n",
      "  9.11444426e-04 1.05059147e-03 6.58839941e-04 4.40508127e-04\n",
      "  4.12970781e-04 4.99814749e-04 6.87122345e-04 6.12527132e-04\n",
      "  1.60780549e-03 1.98959708e-02 2.23690271e-02 3.72265577e-02\n",
      "  5.69699109e-02 1.32850528e-01 2.20500350e-01 5.19935131e-01\n",
      "  8.14960957e-01 9.30494547e-01 9.37272370e-01 9.47880864e-01\n",
      "  9.04139340e-01 8.16631556e-01 8.02269816e-01 6.76349461e-01\n",
      "  2.82188773e-01 6.15968108e-02 4.43279743e-03 1.15808845e-03\n",
      "  1.04725361e-03 7.33196735e-04 8.22544098e-04 2.98082829e-04\n",
      "  3.33547592e-04 3.42607498e-04 4.72456217e-04 7.54237175e-04\n",
      "  4.35644388e-03 1.58773959e-02 3.57057154e-02 6.80941343e-02\n",
      "  6.14644587e-02 1.04727119e-01 3.05143714e-01 8.12628508e-01\n",
      "  9.55699921e-01 9.87753868e-01 9.77623224e-01 9.42264318e-01\n",
      "  7.57782698e-01 7.96257019e-01 6.95252180e-01 6.62394404e-01\n",
      "  2.46176720e-01 3.12354863e-02 4.00590897e-03 1.73774362e-03\n",
      "  6.40124083e-04 6.33209944e-04 6.14553690e-04 2.92152166e-04\n",
      "  4.69744205e-04 4.88400459e-04 5.84185123e-04 1.23545527e-03\n",
      "  4.77525592e-03 1.87573135e-02 5.43027818e-02 5.70764542e-02\n",
      "  4.43425477e-02 1.21093214e-01 2.53439188e-01 5.91390312e-01\n",
      "  8.84687781e-01 8.71118009e-01 6.86993957e-01 5.43590188e-01\n",
      "  3.72642636e-01 6.72187090e-01 7.86367238e-01 3.43461454e-01\n",
      "  1.12561077e-01 1.05135441e-02 4.84734774e-03 2.33265758e-03\n",
      "  8.57204199e-04 2.83390284e-04 5.69522381e-04 4.48614359e-04\n",
      "  6.32584095e-04 2.86072493e-04 6.85960054e-04 6.66037202e-03\n",
      "  1.28692389e-02 1.30333304e-02 4.32831049e-02 5.32743633e-02\n",
      "  3.67124379e-02 5.67107499e-02 2.05070525e-01 3.26758146e-01\n",
      "  5.18013120e-01 4.91619825e-01 1.18245542e-01 1.57712162e-01\n",
      "  2.51141846e-01 4.54783857e-01 5.72154045e-01 2.96202332e-01\n",
      "  7.88105428e-02 2.07620561e-02 5.48011065e-03 2.21660733e-03\n",
      "  5.55276871e-04 4.40567732e-04 4.73380089e-04 5.11169434e-04\n",
      "  4.69624996e-04 4.32968140e-04 1.18267536e-03 1.38895512e-02\n",
      "  1.33771300e-02 2.01090574e-02 2.42061317e-02 4.14960086e-02\n",
      "  1.45910978e-02 1.56443119e-02 5.12645543e-02 1.29781753e-01\n",
      "  1.46966606e-01 1.40005708e-01 4.14556563e-02 3.01710069e-02\n",
      "  1.42000318e-01 5.52393913e-01 5.44384122e-01 2.09817499e-01\n",
      "  9.53656435e-02 4.38915193e-02 2.96140313e-02 3.89003754e-03\n",
      "  9.10907984e-04 6.96897507e-04 6.04987144e-04 3.49253416e-04\n",
      "  4.93973494e-04 3.94433737e-04 3.16688418e-03 1.75204873e-02\n",
      "  6.51916564e-02 5.34712970e-02 6.55837357e-02 3.97658944e-02\n",
      "  1.30935907e-02 8.67760181e-03 4.96439040e-02 1.08099014e-01\n",
      "  8.68881643e-02 2.66399086e-02 7.05328584e-03 2.46254504e-02\n",
      "  2.61773705e-01 5.55302560e-01 5.46719491e-01 2.63575256e-01\n",
      "  1.34928137e-01 8.70829225e-02 2.36821771e-02 6.83975220e-03\n",
      "  2.74094939e-03 9.26136971e-04 8.75443220e-04 3.86416912e-04\n",
      "  4.58747149e-04 4.06891108e-04 6.32721186e-03 8.84247124e-02\n",
      "  1.56293333e-01 2.02920914e-01 1.55538023e-01 7.67304599e-02\n",
      "  2.96982527e-02 4.59573865e-02 5.74254990e-02 5.47838807e-02\n",
      "  3.59863639e-02 7.70354271e-03 6.86663389e-03 3.39551270e-02\n",
      "  2.82293320e-01 7.26283073e-01 7.20600247e-01 4.59082544e-01\n",
      "  1.29963666e-01 4.79498208e-02 2.19853818e-02 1.50885880e-02\n",
      "  8.62970948e-03 1.48040056e-03 8.23944807e-04 3.76969576e-04\n",
      "  3.18080187e-04 5.96553087e-04 5.00908494e-03 1.95356816e-01\n",
      "  4.06432271e-01 5.03064096e-01 4.44491148e-01 4.42211360e-01\n",
      "  2.01948404e-01 1.49715424e-01 9.24412906e-02 1.24396086e-01\n",
      "  8.09775591e-02 2.63704658e-02 2.88493335e-02 1.52283907e-01\n",
      "  7.71014333e-01 7.82682061e-01 6.70409918e-01 3.12832773e-01\n",
      "  1.03034198e-01 2.86465585e-02 2.57998705e-02 1.01073086e-02\n",
      "  7.13706017e-03 1.57412887e-03 6.00665808e-04 4.29958105e-04\n",
      "  4.16576862e-04 3.05533409e-04 6.26027584e-03 1.69780999e-01\n",
      "  5.15418887e-01 8.39397550e-01 7.14266121e-01 6.47414327e-01\n",
      "  3.89226973e-01 1.47340477e-01 2.32893527e-01 1.44306749e-01\n",
      "  1.25374049e-01 1.39393836e-01 2.27622181e-01 5.30251980e-01\n",
      "  8.90396953e-01 7.78234363e-01 2.21000940e-01 8.51410627e-02\n",
      "  2.89063156e-02 1.87557936e-02 1.71647668e-02 1.42470896e-02\n",
      "  5.12668490e-03 1.58855319e-03 4.18782234e-04 3.04162502e-04\n",
      "  4.33415174e-04 3.26454639e-04 4.39906120e-03 9.43389833e-02\n",
      "  5.53820431e-01 7.49344647e-01 8.59788537e-01 9.20099020e-01\n",
      "  7.49320149e-01 5.74618042e-01 5.44342279e-01 5.81844747e-01\n",
      "  5.15167475e-01 5.32387793e-01 5.92278481e-01 7.98244476e-01\n",
      "  5.47026694e-01 3.25065255e-01 5.97207844e-02 2.13841498e-02\n",
      "  1.51215792e-02 1.55861676e-02 7.23734498e-03 6.02868199e-03\n",
      "  3.23915482e-03 1.53532624e-03 6.41942024e-04 3.54379416e-04\n",
      "  5.34802675e-04 4.64975834e-04 1.45104527e-03 1.33336484e-02\n",
      "  2.29957670e-01 5.86108387e-01 7.59252191e-01 9.11179960e-01\n",
      "  8.44323277e-01 8.31476092e-01 8.08390498e-01 6.33323908e-01\n",
      "  4.71715450e-01 3.99324507e-01 3.52503479e-01 2.57893026e-01\n",
      "  1.76208436e-01 3.21045518e-02 2.31896639e-02 2.21407712e-02\n",
      "  1.16673112e-02 6.63453341e-03 4.41423059e-03 1.61617994e-03\n",
      "  2.22545862e-03 7.37577677e-04 3.53187323e-04 4.98712063e-04\n",
      "  4.98712063e-04 5.13851643e-04 4.70548868e-04 1.87280774e-03\n",
      "  2.34799683e-02 1.51135534e-01 6.39915407e-01 7.23587513e-01\n",
      "  7.60101378e-01 6.54782116e-01 4.95833069e-01 4.16569978e-01\n",
      "  1.23344749e-01 6.57522678e-02 3.98535728e-02 4.26959097e-02\n",
      "  2.75044739e-02 1.32442713e-02 1.44039392e-02 5.52374125e-03\n",
      "  4.39134240e-03 1.98626518e-03 1.69625878e-03 1.73506141e-03\n",
      "  9.35643911e-04 4.66644764e-04 3.30120325e-04 3.41176987e-04\n",
      "  4.79161739e-04 6.93470240e-04 4.37200069e-04 4.00155783e-04\n",
      "  7.28517771e-04 3.22684646e-03 7.19150901e-03 2.91920006e-02\n",
      "  2.70094872e-02 2.64541805e-02 1.32940412e-02 7.05078244e-03\n",
      "  1.31028891e-03 2.39482522e-03 2.74682045e-03 5.02121449e-03\n",
      "  1.41362846e-02 8.11257958e-03 1.70683861e-03 2.49767303e-03\n",
      "  1.85462832e-03 8.10444355e-04 9.87082720e-04 4.53680754e-04\n",
      "  5.01930714e-04 3.25232744e-04 3.22878361e-04 4.08381224e-04\n",
      "  2.90691853e-04 4.60356474e-04 3.96192074e-04 2.82347202e-04\n",
      "  4.36007977e-04 1.24263763e-03 1.73127651e-03 1.48996711e-03\n",
      "  7.96437263e-04 9.27627087e-04 3.78578901e-04 1.12079935e-04\n",
      "  4.08457745e-05 6.01111315e-05 1.10825837e-04 3.15457582e-04\n",
      "  4.43309546e-04 4.65393066e-04 3.47405672e-04 8.47190619e-04\n",
      "  8.13603401e-04 7.94917345e-04 5.64634800e-04 4.29838896e-04\n",
      "  3.84449959e-04 4.74840403e-04 3.24517488e-04 3.69489193e-04\n",
      "  5.08755445e-04 3.27706337e-04 4.20778990e-04 2.33262777e-04\n",
      "  3.94165516e-04 4.00841236e-04 9.01550055e-04 4.38958406e-04\n",
      "  7.02112913e-04 1.03279948e-03 9.38177109e-04 5.92589378e-04\n",
      "  3.27348709e-04 1.45375729e-04 2.82317400e-04 3.08781862e-04\n",
      "  3.76313925e-04 4.45663929e-04 9.53823328e-04 4.95821238e-04\n",
      "  2.76744366e-04 3.14116478e-04 3.47137451e-04 4.90814447e-04\n",
      "  2.96533108e-04 3.96192074e-04 5.51074743e-04 3.27765942e-04]], shape=(1, 784), dtype=float32)\n"
     ]
    }
   ],
   "source": [
    "hh0_p = tf.nn.sigmoid(tf.matmul(sample_case, W) + hb)\n",
    "hh0_s = tf.round(hh0_p)\n",
    "\n",
    "print(\"Probability nodes in hidden layer:\" ,hh0_p)\n",
    "print(\"activated nodes in hidden layer:\" ,hh0_s)\n",
    "\n",
    "# reconstruct\n",
    "vv1_p = tf.nn.sigmoid(tf.matmul(hh0_s, tf.transpose(W)) + vb)\n",
    "\n",
    "print(vv1_p)\n",
    "#rec_prob = sess.run(vv1_p, feed_dict={ hh0_s: hh0_s_val, W: prv_w, vb: prv_vb})"
   ]
  },
  {
   "cell_type": "markdown",
   "metadata": {},
   "source": [
    "Here we plot the reconstructed image:\n"
   ]
  },
  {
   "cell_type": "code",
   "execution_count": 32,
   "metadata": {},
   "outputs": [
    {
     "data": {
      "image/png": "[encoded data removed]",
      "text/plain": [
       "<Figure size 288x288 with 1 Axes>"
      ]
     },
     "metadata": {
      "needs_background": "light"
     },
     "output_type": "display_data"
    }
   ],
   "source": [
    "img = Image.fromarray(tile_raster_images(X=vv1_p.numpy(), img_shape=(28, 28),tile_shape=(1, 1), tile_spacing=(1, 1)))\n",
    "plt.rcParams['figure.figsize'] = (4.0, 4.0)\n",
    "imgplot = plt.imshow(img)\n",
    "imgplot.set_cmap('gray') "
   ]
  },
  {
   "cell_type": "markdown",
   "metadata": {},
   "source": [
    "<hr>\n",
    "\n",
    "## Want to learn more?\n",
    "\n",
    "Running deep learning programs usually needs a high performance platform. **PowerAI** speeds up deep learning and AI. Built on IBM’s Power Systems, **PowerAI** is a scalable software platform that accelerates deep learning and AI with blazing performance for individual users or enterprises. The **PowerAI** platform supports popular machine learning libraries and dependencies including TensorFlow, Caffe, Torch, and Theano. You can use [PowerAI on IMB Cloud](https://cocl.us/ML0120EN_PAI).\n",
    "\n",
    "Also, you can use **Watson Studio** to run these notebooks faster with bigger datasets.**Watson Studio** is IBM’s leading cloud solution for data scientists, built by data scientists. With Jupyter notebooks, RStudio, Apache Spark and popular libraries pre-packaged in the cloud, **Watson Studio** enables data scientists to collaborate on their projects without having to install anything. Join the fast-growing community of **Watson Studio** users today with a free account at [Watson Studio](https://cocl.us/ML0120EN_DSX).This is the end of this lesson. Thank you for reading this notebook, and good luck on your studies.\n"
   ]
  },
  {
   "cell_type": "markdown",
   "metadata": {},
   "source": [
    "### Thanks for completing this lesson!\n",
    "\n",
    "Notebook created by: <a href = \"https://ca.linkedin.com/in/saeedaghabozorgi\">Saeed Aghabozorgi</a>\n",
    "\n",
    "Updated to TF 2.X by  <a href=\"https://ca.linkedin.com/in/nilmeier\"> Jerome Nilmeier</a><br />\n"
   ]
  },
  {
   "cell_type": "markdown",
   "metadata": {},
   "source": [
    "### References:\n",
    "\n",
    "[https://en.wikipedia.org/wiki/Restricted_Boltzmann_machine](https://en.wikipedia.org/wiki/Restricted_Boltzmann_machine?cm_mmc=Email_Newsletter-_-Developer_Ed%2BTech-_-WW_WW-_-SkillsNetwork-Courses-IBMDeveloperSkillsNetwork-DL0120EN-SkillsNetwork-20629446&cm_mmca1=000026UJ&cm_mmca2=10006555&cm_mmca3=M12345678&cvosrc=email.Newsletter.M12345678&cvo_campaign=000026UJ)  \n",
    "[http://deeplearning.net/tutorial/rbm.html](http://deeplearning.net/tutorial/rbm.html?cm_mmc=Email_Newsletter-_-Developer_Ed%2BTech-_-WW_WW-_-SkillsNetwork-Courses-IBMDeveloperSkillsNetwork-DL0120EN-SkillsNetwork-20629446&cm_mmca1=000026UJ&cm_mmca2=10006555&cm_mmca3=M12345678&cvosrc=email.Newsletter.M12345678&cvo_campaign=000026UJ&cm_mmc=Email_Newsletter-_-Developer_Ed%2BTech-_-WW_WW-_-SkillsNetwork-Courses-IBMDeveloperSkillsNetwork-DL0120EN-SkillsNetwork-20629446&cm_mmca1=000026UJ&cm_mmca2=10006555&cm_mmca3=M12345678&cvosrc=email.Newsletter.M12345678&cvo_campaign=000026UJ)  \n",
    "[http://www.cs.utoronto.ca/~hinton/absps/netflixICML.pdf](http://www.cs.utoronto.ca/~hinton/absps/netflixICML.pdf?cm_mmc=Email_Newsletter-_-Developer_Ed%2BTech-_-WW_WW-_-SkillsNetwork-Courses-IBMDeveloperSkillsNetwork-DL0120EN-SkillsNetwork-20629446&cm_mmca1=000026UJ&cm_mmca2=10006555&cm_mmca3=M12345678&cvosrc=email.Newsletter.M12345678&cvo_campaign=000026UJ&cm_mmc=Email_Newsletter-_-Developer_Ed%2BTech-_-WW_WW-_-SkillsNetwork-Courses-IBMDeveloperSkillsNetwork-DL0120EN-SkillsNetwork-20629446&cm_mmca1=000026UJ&cm_mmca2=10006555&cm_mmca3=M12345678&cvosrc=email.Newsletter.M12345678&cvo_campaign=000026UJ)<br>\n",
    "<http://imonad.com/rbm/restricted-boltzmann-machine/>  \n"
   ]
  },
  {
   "cell_type": "markdown",
   "metadata": {},
   "source": [
    "<hr>\n",
    "\n",
    "Copyright © 2018 [Cognitive Class](https://cocl.us/DX0108EN_CC). This notebook and its source code are released under the terms of the [MIT License](https://bigdatauniversity.com/mit-license?cm_mmc=Email_Newsletter-_-Developer_Ed%2BTech-_-WW_WW-_-SkillsNetwork-Courses-IBMDeveloperSkillsNetwork-DL0120EN-SkillsNetwork-20629446&cm_mmca1=000026UJ&cm_mmca2=10006555&cm_mmca3=M12345678&cvosrc=email.Newsletter.M12345678&cvo_campaign=000026UJ&cm_mmc=Email_Newsletter-_-Developer_Ed%2BTech-_-WW_WW-_-SkillsNetwork-Courses-IBMDeveloperSkillsNetwork-DL0120EN-SkillsNetwork-20629446&cm_mmca1=000026UJ&cm_mmca2=10006555&cm_mmca3=M12345678&cvosrc=email.Newsletter.M12345678&cvo_campaign=000026UJ).\n"
   ]
  }
 ],
 "metadata": {
  "kernelspec": {
   "display_name": "Python 3",
   "language": "python",
   "name": "python3"
  },
  "language_info": {
   "codemirror_mode": {
    "name": "ipython",
    "version": 3
   },
   "file_extension": ".py",
   "mimetype": "text/x-python",
   "name": "python",
   "nbconvert_exporter": "python",
   "pygments_lexer": "ipython3",
   "version": "3.8.5"
  },
  "widgets": {
   "state": {},
   "version": "1.1.2"
  }
 },
 "nbformat": 4,
 "nbformat_minor": 4
}
